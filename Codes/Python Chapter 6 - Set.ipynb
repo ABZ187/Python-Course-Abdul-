{
 "cells": [
  {
   "cell_type": "markdown",
   "id": "7cab5cb0",
   "metadata": {},
   "source": [
    "## Set ... Identified with help of { }\n",
    "- Can store only unique elements but it is unordered\n",
    "- New Datatype Learnt : list,tuple,set"
   ]
  },
  {
   "cell_type": "code",
   "execution_count": 1,
   "id": "55bd0222",
   "metadata": {},
   "outputs": [
    {
     "name": "stdout",
     "output_type": "stream",
     "text": [
      "{200, 'banana', 100, 300}\n"
     ]
    }
   ],
   "source": [
    "b={100,200,300,\"banana\"}\n",
    "print(b)"
   ]
  },
  {
   "cell_type": "code",
   "execution_count": 10,
   "id": "412dd7c2",
   "metadata": {},
   "outputs": [],
   "source": [
    "a=[2,10,\"banana\",\"mango\"]\n",
    "b={\"alpha\",\"beta\"}\n",
    "c=(100,200,3.5,\"Thursday\",a,b)"
   ]
  },
  {
   "cell_type": "code",
   "execution_count": 4,
   "id": "fb09354a",
   "metadata": {},
   "outputs": [
    {
     "name": "stdout",
     "output_type": "stream",
     "text": [
      "(100, 200, 3.5, 'Thursday', [2, 10, 'banana', 'mango'], {'beta', 'alpha'})\n"
     ]
    }
   ],
   "source": [
    "print(c)"
   ]
  },
  {
   "cell_type": "markdown",
   "id": "c77a5b6a",
   "metadata": {},
   "source": [
    "### Elements Accessing - Set Cannot be accessed using index, alternative is for loop"
   ]
  },
  {
   "cell_type": "code",
   "execution_count": 32,
   "id": "cf3ed60d",
   "metadata": {
    "scrolled": true
   },
   "outputs": [],
   "source": [
    "b={\"alpha\",\"beta\"}"
   ]
  },
  {
   "cell_type": "code",
   "execution_count": 33,
   "id": "10a6be04",
   "metadata": {},
   "outputs": [
    {
     "ename": "TypeError",
     "evalue": "'set' object is not subscriptable",
     "output_type": "error",
     "traceback": [
      "\u001b[1;31m---------------------------------------------------------------------------\u001b[0m",
      "\u001b[1;31mTypeError\u001b[0m                                 Traceback (most recent call last)",
      "\u001b[1;32m~\\AppData\\Local\\Temp/ipykernel_17520/1610174714.py\u001b[0m in \u001b[0;36m<module>\u001b[1;34m\u001b[0m\n\u001b[1;32m----> 1\u001b[1;33m \u001b[0mb\u001b[0m\u001b[1;33m[\u001b[0m\u001b[1;36m0\u001b[0m\u001b[1;33m]\u001b[0m \u001b[1;31m# The number 0 is called the index , so we are finding element at index 0\u001b[0m\u001b[1;33m\u001b[0m\u001b[1;33m\u001b[0m\u001b[0m\n\u001b[0m",
      "\u001b[1;31mTypeError\u001b[0m: 'set' object is not subscriptable"
     ]
    }
   ],
   "source": [
    "b[0] # The number 0 is called the index , so we are finding element at index 0"
   ]
  },
  {
   "cell_type": "code",
   "execution_count": 34,
   "id": "46f03f35",
   "metadata": {},
   "outputs": [
    {
     "name": "stdout",
     "output_type": "stream",
     "text": [
      "beta\n",
      "alpha\n"
     ]
    }
   ],
   "source": [
    "for i in b:\n",
    "    print(i)"
   ]
  },
  {
   "cell_type": "markdown",
   "id": "1dfe5cc2",
   "metadata": {},
   "source": [
    "### Length Function"
   ]
  },
  {
   "cell_type": "code",
   "execution_count": 28,
   "id": "30504871",
   "metadata": {},
   "outputs": [],
   "source": [
    "b={1,2,3,4}"
   ]
  },
  {
   "cell_type": "code",
   "execution_count": 29,
   "id": "148b9fd8",
   "metadata": {},
   "outputs": [
    {
     "data": {
      "text/plain": [
       "4"
      ]
     },
     "execution_count": 29,
     "metadata": {},
     "output_type": "execute_result"
    }
   ],
   "source": [
    "len(b)"
   ]
  },
  {
   "cell_type": "markdown",
   "id": "06d62139",
   "metadata": {},
   "source": [
    "##### Sequence : (Atleast 2 elements)\n",
    "- \"Python\"  - Atleast 2 characters (String - immutable)\n",
    "- [1,2,3,4] - Atleast 2 items (List - mutable)\n",
    "- (1,2,3,4) - Atleast 2 items (Tuple - immutable)\n",
    "- {1,2,3,4} - Atleast 2 items (Set - mutable)"
   ]
  },
  {
   "cell_type": "markdown",
   "id": "dd1ef0cb",
   "metadata": {},
   "source": [
    "### in and not in operator - can be used with any sequence\n"
   ]
  },
  {
   "cell_type": "code",
   "execution_count": 30,
   "id": "8beba7d4",
   "metadata": {},
   "outputs": [],
   "source": [
    "a={1,2,3,4}"
   ]
  },
  {
   "cell_type": "code",
   "execution_count": 31,
   "id": "ce5153fa",
   "metadata": {},
   "outputs": [
    {
     "name": "stdout",
     "output_type": "stream",
     "text": [
      "Absent\n"
     ]
    }
   ],
   "source": [
    "if (13 in a):\n",
    "    print(\"Present\")\n",
    "else:\n",
    "    print(\"Absent\")"
   ]
  },
  {
   "cell_type": "markdown",
   "id": "09c86db6",
   "metadata": {},
   "source": [
    "### Adding an element in set - Add Method and Update Method\n",
    "- The update() method can take tuples, lists, strings or other sets as its argument."
   ]
  },
  {
   "cell_type": "code",
   "execution_count": 5,
   "id": "c8149e33",
   "metadata": {},
   "outputs": [],
   "source": [
    "a={1,3,2,4}"
   ]
  },
  {
   "cell_type": "code",
   "execution_count": 8,
   "id": "8fe385e8",
   "metadata": {},
   "outputs": [
    {
     "name": "stdout",
     "output_type": "stream",
     "text": [
      "{1, 2, 3, 4, 5}\n"
     ]
    }
   ],
   "source": [
    "a.add(5) #Method or Function\n",
    "print(a)"
   ]
  },
  {
   "cell_type": "code",
   "execution_count": 14,
   "id": "7f8cc115",
   "metadata": {},
   "outputs": [
    {
     "name": "stdout",
     "output_type": "stream",
     "text": [
      "{1, 2, 3, 4, 5}\n"
     ]
    }
   ],
   "source": [
    "a={1,3,2,4}\n",
    "a.update([1,5]) # 1 not inserted because set does not allow duplicate elements\n",
    "print(a)"
   ]
  },
  {
   "cell_type": "markdown",
   "id": "804a9082",
   "metadata": {},
   "source": [
    "## Removing an element in set - Remove Method and Discard Method\n",
    "- The only difference between the two is that the discard() function does not generate an error if the element is not present in the set. On the other hand, the remove() function will raise an error if element is not present in the set."
   ]
  },
  {
   "cell_type": "code",
   "execution_count": 16,
   "id": "93f451bb",
   "metadata": {},
   "outputs": [
    {
     "name": "stdout",
     "output_type": "stream",
     "text": [
      "{1, 2, 3}\n"
     ]
    }
   ],
   "source": [
    "a={1,3,2,4}\n",
    "a.remove(4)\n",
    "print(a)"
   ]
  },
  {
   "cell_type": "code",
   "execution_count": 18,
   "id": "015ee163",
   "metadata": {},
   "outputs": [
    {
     "name": "stdout",
     "output_type": "stream",
     "text": [
      "{1, 2, 3}\n"
     ]
    }
   ],
   "source": [
    "a={1,3,2}\n",
    "a.discard(4)\n",
    "print(a)"
   ]
  },
  {
   "cell_type": "code",
   "execution_count": 19,
   "id": "ce33a2e2",
   "metadata": {},
   "outputs": [
    {
     "ename": "KeyError",
     "evalue": "4",
     "output_type": "error",
     "traceback": [
      "\u001b[1;31m---------------------------------------------------------------------------\u001b[0m",
      "\u001b[1;31mKeyError\u001b[0m                                  Traceback (most recent call last)",
      "\u001b[1;32m~\\AppData\\Local\\Temp/ipykernel_15156/3506361752.py\u001b[0m in \u001b[0;36m<module>\u001b[1;34m\u001b[0m\n\u001b[0;32m      1\u001b[0m \u001b[0ma\u001b[0m\u001b[1;33m=\u001b[0m\u001b[1;33m{\u001b[0m\u001b[1;36m1\u001b[0m\u001b[1;33m,\u001b[0m\u001b[1;36m3\u001b[0m\u001b[1;33m,\u001b[0m\u001b[1;36m2\u001b[0m\u001b[1;33m}\u001b[0m\u001b[1;33m\u001b[0m\u001b[1;33m\u001b[0m\u001b[0m\n\u001b[1;32m----> 2\u001b[1;33m \u001b[0ma\u001b[0m\u001b[1;33m.\u001b[0m\u001b[0mremove\u001b[0m\u001b[1;33m(\u001b[0m\u001b[1;36m4\u001b[0m\u001b[1;33m)\u001b[0m\u001b[1;33m\u001b[0m\u001b[1;33m\u001b[0m\u001b[0m\n\u001b[0m\u001b[0;32m      3\u001b[0m \u001b[0mprint\u001b[0m\u001b[1;33m(\u001b[0m\u001b[0ma\u001b[0m\u001b[1;33m)\u001b[0m\u001b[1;33m\u001b[0m\u001b[1;33m\u001b[0m\u001b[0m\n",
      "\u001b[1;31mKeyError\u001b[0m: 4"
     ]
    }
   ],
   "source": [
    "a={1,3,2}\n",
    "a.remove(4)\n",
    "print(a)"
   ]
  },
  {
   "cell_type": "markdown",
   "id": "6d27a8a0",
   "metadata": {},
   "source": [
    "#### Joining Two Sets"
   ]
  },
  {
   "cell_type": "code",
   "execution_count": 24,
   "id": "f17d3a19",
   "metadata": {},
   "outputs": [
    {
     "data": {
      "text/plain": [
       "{1, 2, 3, 4, 5, 6}"
      ]
     },
     "execution_count": 24,
     "metadata": {},
     "output_type": "execute_result"
    }
   ],
   "source": [
    "a={1,2,3}\n",
    "b={4,5,6}\n",
    "a.union(b)"
   ]
  },
  {
   "cell_type": "markdown",
   "id": "7b0d44ff",
   "metadata": {},
   "source": [
    "###### zip( ) is a built in function that takes two or more sequences and zips them into a list of tuples. The tuple thus formed has one element from each sequence."
   ]
  },
  {
   "cell_type": "code",
   "execution_count": 25,
   "id": "a031d2aa",
   "metadata": {},
   "outputs": [
    {
     "data": {
      "text/plain": [
       "[(401, 'Abdul'), (402, 'Swapnil'), (403, 'Adinath'), (404, 'Bhushan')]"
      ]
     },
     "execution_count": 25,
     "metadata": {},
     "output_type": "execute_result"
    }
   ],
   "source": [
    "a={401,402,403,404}\n",
    "b=[\"Abdul\",\"Swapnil\",\"Adinath\",\"Bhushan\"]\n",
    "list(zip(a,b))"
   ]
  },
  {
   "cell_type": "markdown",
   "id": "5b943cb3",
   "metadata": {},
   "source": [
    "#### how to access the elements of list(zip(a,b))\n"
   ]
  },
  {
   "cell_type": "code",
   "execution_count": 72,
   "id": "cc23ee4d",
   "metadata": {},
   "outputs": [],
   "source": [
    "a=(401,402,403,404)\n",
    "b=[\"Abdul\",\"Swapnil\",\"Adinath\",\"Bhushan\"]\n",
    "students=list(zip(a,b))"
   ]
  },
  {
   "cell_type": "code",
   "execution_count": 75,
   "id": "e6bd2db7",
   "metadata": {},
   "outputs": [
    {
     "data": {
      "text/plain": [
       "'Adinath'"
      ]
     },
     "execution_count": 75,
     "metadata": {},
     "output_type": "execute_result"
    }
   ],
   "source": [
    "students[2][1]"
   ]
  }
 ],
 "metadata": {
  "kernelspec": {
   "display_name": "Python 3 (ipykernel)",
   "language": "python",
   "name": "python3"
  },
  "language_info": {
   "codemirror_mode": {
    "name": "ipython",
    "version": 3
   },
   "file_extension": ".py",
   "mimetype": "text/x-python",
   "name": "python",
   "nbconvert_exporter": "python",
   "pygments_lexer": "ipython3",
   "version": "3.9.7"
  }
 },
 "nbformat": 4,
 "nbformat_minor": 5
}
