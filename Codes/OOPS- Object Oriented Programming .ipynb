{
 "cells": [
  {
   "cell_type": "code",
   "execution_count": 3,
   "id": "589127c4",
   "metadata": {},
   "outputs": [
    {
     "data": {
      "text/plain": [
       "[1, 2, 3, 4]"
      ]
     },
     "execution_count": 3,
     "metadata": {},
     "output_type": "execute_result"
    }
   ],
   "source": [
    "a"
   ]
  },
  {
   "cell_type": "code",
   "execution_count": 3,
   "id": "58a77d78",
   "metadata": {},
   "outputs": [
    {
     "name": "stdout",
     "output_type": "stream",
     "text": [
      "10\n"
     ]
    }
   ],
   "source": [
    "class FYBSC:  # Class can access only class variables not object variables\n",
    "    bench_count=10\n",
    "    whiteBoard_count=30  # Class variables \n",
    "    \n",
    "    def __init__(self): #Constructor always called when the object is first created - Object Variables\n",
    "        self.roll_no=10\n",
    "        self.name=\"Abdul\"\n",
    "        self.gender=\"M\"\n",
    "    \n",
    "    def getDetails(self):  ## Functions inside a class are always called methods.\n",
    "        return self.roll_no\n",
    "\n",
    "obj=FYBSC()  #Instantiation -- means to create an object (we made a student) --this gives call to default constructor automatically\n",
    "\n",
    "\n",
    "\n",
    "print(obj.getDetails())"
   ]
  },
  {
   "cell_type": "code",
   "execution_count": null,
   "id": "1a5c6527",
   "metadata": {},
   "outputs": [],
   "source": []
  }
 ],
 "metadata": {
  "kernelspec": {
   "display_name": "Python 3 (ipykernel)",
   "language": "python",
   "name": "python3"
  },
  "language_info": {
   "codemirror_mode": {
    "name": "ipython",
    "version": 3
   },
   "file_extension": ".py",
   "mimetype": "text/x-python",
   "name": "python",
   "nbconvert_exporter": "python",
   "pygments_lexer": "ipython3",
   "version": "3.9.7"
  }
 },
 "nbformat": 4,
 "nbformat_minor": 5
}
