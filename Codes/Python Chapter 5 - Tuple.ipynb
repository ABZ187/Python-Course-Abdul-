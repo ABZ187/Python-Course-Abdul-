{
 "cells": [
  {
   "cell_type": "markdown",
   "id": "7cab5cb0",
   "metadata": {},
   "source": [
    "## Tuple ... Identified with help of ( )\n",
    "- New Datatype Learnt : list,tuple"
   ]
  },
  {
   "cell_type": "code",
   "execution_count": 2,
   "id": "55bd0222",
   "metadata": {},
   "outputs": [
    {
     "name": "stdout",
     "output_type": "stream",
     "text": [
      "(100, 200, 300, 'banana')\n"
     ]
    }
   ],
   "source": [
    "b=(100,200,300,\"banana\")\n",
    "print(b)"
   ]
  },
  {
   "cell_type": "code",
   "execution_count": null,
   "id": "3ba1e4e4",
   "metadata": {},
   "outputs": [],
   "source": []
  },
  {
   "cell_type": "code",
   "execution_count": 3,
   "id": "412dd7c2",
   "metadata": {},
   "outputs": [],
   "source": [
    "a=[2,10,\"banana\",\"mango\"]\n",
    "b=(100,200,3.5,\"Thursday\",a)"
   ]
  },
  {
   "cell_type": "code",
   "execution_count": 4,
   "id": "fb09354a",
   "metadata": {},
   "outputs": [
    {
     "name": "stdout",
     "output_type": "stream",
     "text": [
      "(100, 200, 3.5, 'Thursday', [2, 10, 'banana', 'mango'])\n"
     ]
    }
   ],
   "source": [
    "print(b)"
   ]
  },
  {
   "cell_type": "code",
   "execution_count": 91,
   "id": "03841567",
   "metadata": {},
   "outputs": [],
   "source": [
    "a=[2] #One element list\n"
   ]
  },
  {
   "cell_type": "code",
   "execution_count": 95,
   "id": "abcca8f7",
   "metadata": {},
   "outputs": [],
   "source": [
    "a=(2,) #One element tuple"
   ]
  },
  {
   "cell_type": "code",
   "execution_count": 96,
   "id": "c6c20b92",
   "metadata": {},
   "outputs": [
    {
     "data": {
      "text/plain": [
       "tuple"
      ]
     },
     "execution_count": 96,
     "metadata": {},
     "output_type": "execute_result"
    }
   ],
   "source": [
    "type(a)"
   ]
  },
  {
   "cell_type": "markdown",
   "id": "c77a5b6a",
   "metadata": {},
   "source": [
    "### Elements Accessing"
   ]
  },
  {
   "cell_type": "code",
   "execution_count": 5,
   "id": "cf3ed60d",
   "metadata": {
    "scrolled": true
   },
   "outputs": [
    {
     "name": "stdout",
     "output_type": "stream",
     "text": [
      "(100, 200, 3.5, 'Thursday', [2, 10, 'banana', 'mango'])\n"
     ]
    }
   ],
   "source": [
    "print(b)"
   ]
  },
  {
   "cell_type": "code",
   "execution_count": 6,
   "id": "10a6be04",
   "metadata": {},
   "outputs": [
    {
     "data": {
      "text/plain": [
       "100"
      ]
     },
     "execution_count": 6,
     "metadata": {},
     "output_type": "execute_result"
    }
   ],
   "source": [
    "b[0] # The number 0 is called the index , so we are finding element at index 0"
   ]
  },
  {
   "cell_type": "code",
   "execution_count": 7,
   "id": "884df3ab",
   "metadata": {},
   "outputs": [
    {
     "data": {
      "text/plain": [
       "3.5"
      ]
     },
     "execution_count": 7,
     "metadata": {},
     "output_type": "execute_result"
    }
   ],
   "source": [
    "b[2]"
   ]
  },
  {
   "cell_type": "code",
   "execution_count": 8,
   "id": "af74faca",
   "metadata": {},
   "outputs": [
    {
     "data": {
      "text/plain": [
       "'Thursday'"
      ]
     },
     "execution_count": 8,
     "metadata": {},
     "output_type": "execute_result"
    }
   ],
   "source": [
    "b[3]"
   ]
  },
  {
   "cell_type": "code",
   "execution_count": 9,
   "id": "e1edf275",
   "metadata": {},
   "outputs": [
    {
     "ename": "IndexError",
     "evalue": "tuple index out of range",
     "output_type": "error",
     "traceback": [
      "\u001b[1;31m---------------------------------------------------------------------------\u001b[0m",
      "\u001b[1;31mIndexError\u001b[0m                                Traceback (most recent call last)",
      "\u001b[1;32m~\\AppData\\Local\\Temp/ipykernel_17548/1857735334.py\u001b[0m in \u001b[0;36m<module>\u001b[1;34m\u001b[0m\n\u001b[1;32m----> 1\u001b[1;33m \u001b[0mb\u001b[0m\u001b[1;33m[\u001b[0m\u001b[1;36m5\u001b[0m\u001b[1;33m]\u001b[0m \u001b[1;31m# This will generate an error as there is no element at that position\u001b[0m\u001b[1;33m\u001b[0m\u001b[1;33m\u001b[0m\u001b[0m\n\u001b[0m",
      "\u001b[1;31mIndexError\u001b[0m: tuple index out of range"
     ]
    }
   ],
   "source": [
    "b[5] # This will generate an error as there is no element at that position"
   ]
  },
  {
   "cell_type": "code",
   "execution_count": 32,
   "id": "d55298e9",
   "metadata": {},
   "outputs": [
    {
     "name": "stdout",
     "output_type": "stream",
     "text": [
      "['apple', 'ball', 2, 'Apple', [2, 10, 'banana', 'mango']]\n"
     ]
    }
   ],
   "source": [
    "print(b)"
   ]
  },
  {
   "cell_type": "code",
   "execution_count": null,
   "id": "07a78bbe",
   "metadata": {},
   "outputs": [],
   "source": []
  },
  {
   "cell_type": "code",
   "execution_count": 10,
   "id": "88e28467",
   "metadata": {},
   "outputs": [],
   "source": []
  },
  {
   "cell_type": "markdown",
   "id": "5cd73fc3",
   "metadata": {},
   "source": [
    "### Python default behaviour for comma separated values is -- tuple"
   ]
  },
  {
   "cell_type": "code",
   "execution_count": 20,
   "id": "6cafc753",
   "metadata": {},
   "outputs": [
    {
     "data": {
      "text/plain": [
       "(2, 3, 5)"
      ]
     },
     "execution_count": 20,
     "metadata": {},
     "output_type": "execute_result"
    }
   ],
   "source": [
    "2,3,5"
   ]
  },
  {
   "cell_type": "code",
   "execution_count": 25,
   "id": "8fbe60bc",
   "metadata": {},
   "outputs": [
    {
     "data": {
      "text/plain": [
       "(['bat', 'cat', ['dog', ['baba', 'banana']]], [2], [1], [1])"
      ]
     },
     "execution_count": 25,
     "metadata": {},
     "output_type": "execute_result"
    }
   ],
   "source": [
    "c=[\"apple\",\"ball\",[\"bat\",\"cat\",[\"dog\",[\"baba\",\"banana\"]]]]\n",
    "c[2],[2],[1],[1]"
   ]
  },
  {
   "cell_type": "markdown",
   "id": "8eb2598f",
   "metadata": {},
   "source": [
    "### Slicing \n",
    " - [first_element_index:last_element_index+1]"
   ]
  },
  {
   "cell_type": "code",
   "execution_count": 45,
   "id": "81276f35",
   "metadata": {},
   "outputs": [],
   "source": [
    "a=[2,10,\"banana\",\"mango\"]\n",
    "b=(100,200,3.5,\"Thursday\",a)"
   ]
  },
  {
   "cell_type": "code",
   "execution_count": 34,
   "id": "6d9b216c",
   "metadata": {},
   "outputs": [
    {
     "data": {
      "text/plain": [
       "(100, 200, 3.5, 'Thursday', [2, 10, 'banana', 'mango'])"
      ]
     },
     "execution_count": 34,
     "metadata": {},
     "output_type": "execute_result"
    }
   ],
   "source": [
    "b"
   ]
  },
  {
   "cell_type": "code",
   "execution_count": 35,
   "id": "b5253c3b",
   "metadata": {},
   "outputs": [
    {
     "data": {
      "text/plain": [
       "(100, 200, 3.5, 'Thursday')"
      ]
     },
     "execution_count": 35,
     "metadata": {},
     "output_type": "execute_result"
    }
   ],
   "source": [
    "b[0:4]\n",
    "# Start\n",
    "# End\n",
    "# Error check"
   ]
  },
  {
   "cell_type": "code",
   "execution_count": 36,
   "id": "15b3ad3a",
   "metadata": {},
   "outputs": [
    {
     "data": {
      "text/plain": [
       "(200, 'Thursday')"
      ]
     },
     "execution_count": 36,
     "metadata": {},
     "output_type": "execute_result"
    }
   ],
   "source": [
    "b[1:4:2] #Third parameter step"
   ]
  },
  {
   "cell_type": "code",
   "execution_count": 37,
   "id": "de6be1dd",
   "metadata": {},
   "outputs": [
    {
     "data": {
      "text/plain": [
       "[2, 10, 'banana', 'mango']"
      ]
     },
     "execution_count": 37,
     "metadata": {},
     "output_type": "execute_result"
    }
   ],
   "source": [
    "b[-1]"
   ]
  },
  {
   "cell_type": "code",
   "execution_count": 46,
   "id": "246779b9",
   "metadata": {},
   "outputs": [
    {
     "data": {
      "text/plain": [
       "(100, 200, 3.5, 'Thursday', [2, 10, 'banana', 'mango'])"
      ]
     },
     "execution_count": 46,
     "metadata": {},
     "output_type": "execute_result"
    }
   ],
   "source": [
    "b"
   ]
  },
  {
   "cell_type": "code",
   "execution_count": 38,
   "id": "a1a1b09b",
   "metadata": {},
   "outputs": [
    {
     "data": {
      "text/plain": [
       "[10, 'banana']"
      ]
     },
     "execution_count": 38,
     "metadata": {},
     "output_type": "execute_result"
    }
   ],
   "source": [
    "b[4][1:3]"
   ]
  },
  {
   "cell_type": "markdown",
   "id": "26525efa",
   "metadata": {},
   "source": [
    "#### We can skip certain values"
   ]
  },
  {
   "cell_type": "code",
   "execution_count": 39,
   "id": "8bb26257",
   "metadata": {},
   "outputs": [],
   "source": [
    "b=(\"apple\",\"ball\",2,\"Apple\")"
   ]
  },
  {
   "cell_type": "code",
   "execution_count": 40,
   "id": "5fd0f847",
   "metadata": {},
   "outputs": [
    {
     "data": {
      "text/plain": [
       "('ball', 2, 'Apple')"
      ]
     },
     "execution_count": 40,
     "metadata": {},
     "output_type": "execute_result"
    }
   ],
   "source": [
    "b[1:] #All elements towards the end from a particular item"
   ]
  },
  {
   "cell_type": "code",
   "execution_count": 41,
   "id": "326be5fe",
   "metadata": {},
   "outputs": [
    {
     "data": {
      "text/plain": [
       "('apple', 'ball', 2)"
      ]
     },
     "execution_count": 41,
     "metadata": {},
     "output_type": "execute_result"
    }
   ],
   "source": [
    "b[:3] #All elements from start upto a particular item"
   ]
  },
  {
   "cell_type": "markdown",
   "id": "1dfe5cc2",
   "metadata": {},
   "source": [
    "### Length Function"
   ]
  },
  {
   "cell_type": "code",
   "execution_count": 42,
   "id": "30504871",
   "metadata": {},
   "outputs": [],
   "source": [
    "b=(1,2,3,4)"
   ]
  },
  {
   "cell_type": "code",
   "execution_count": 43,
   "id": "148b9fd8",
   "metadata": {},
   "outputs": [
    {
     "data": {
      "text/plain": [
       "4"
      ]
     },
     "execution_count": 43,
     "metadata": {},
     "output_type": "execute_result"
    }
   ],
   "source": [
    "len(b)"
   ]
  },
  {
   "cell_type": "markdown",
   "id": "06d62139",
   "metadata": {},
   "source": [
    "##### Sequence : (Atleast 2 elements)\n",
    "- \"Python\"  - Atleast 2 characters (String - immutable)\n",
    "- [1,2,3,4] - Atleast 2 items (List - mutable)\n",
    "- (1,2,3,4) - Atleast 2 items (Tuple - immutable)"
   ]
  },
  {
   "cell_type": "markdown",
   "id": "dd1ef0cb",
   "metadata": {},
   "source": [
    "### in and not in operator - can be used with any sequence\n"
   ]
  },
  {
   "cell_type": "code",
   "execution_count": 47,
   "id": "8beba7d4",
   "metadata": {},
   "outputs": [],
   "source": [
    "a=(1,2,3,4)"
   ]
  },
  {
   "cell_type": "code",
   "execution_count": 48,
   "id": "ce5153fa",
   "metadata": {},
   "outputs": [
    {
     "name": "stdout",
     "output_type": "stream",
     "text": [
      "Absent\n"
     ]
    }
   ],
   "source": [
    "if (13 in a):\n",
    "    print(\"Present\")\n",
    "else:\n",
    "    print(\"Absent\")"
   ]
  },
  {
   "cell_type": "markdown",
   "id": "bf444428",
   "metadata": {},
   "source": [
    "### Tuples cannot be modified or updated ( \"Immutable\")\n",
    "- No insertion or deletion possible"
   ]
  },
  {
   "cell_type": "code",
   "execution_count": 55,
   "id": "d0600a4c",
   "metadata": {},
   "outputs": [
    {
     "ename": "TypeError",
     "evalue": "'tuple' object does not support item assignment",
     "output_type": "error",
     "traceback": [
      "\u001b[1;31m---------------------------------------------------------------------------\u001b[0m",
      "\u001b[1;31mTypeError\u001b[0m                                 Traceback (most recent call last)",
      "\u001b[1;32m~\\AppData\\Local\\Temp/ipykernel_17548/137849521.py\u001b[0m in \u001b[0;36m<module>\u001b[1;34m\u001b[0m\n\u001b[0;32m      1\u001b[0m \u001b[0mb\u001b[0m\u001b[1;33m=\u001b[0m\u001b[1;33m(\u001b[0m\u001b[1;34m\"apple\"\u001b[0m\u001b[1;33m,\u001b[0m\u001b[1;34m\"mango\"\u001b[0m\u001b[1;33m,\u001b[0m\u001b[1;34m\"orange\"\u001b[0m\u001b[1;33m)\u001b[0m\u001b[1;33m\u001b[0m\u001b[1;33m\u001b[0m\u001b[0m\n\u001b[1;32m----> 2\u001b[1;33m \u001b[0mb\u001b[0m\u001b[1;33m[\u001b[0m\u001b[1;36m0\u001b[0m\u001b[1;33m]\u001b[0m\u001b[1;33m=\u001b[0m\u001b[1;34m\"dragon-fruit\"\u001b[0m\u001b[1;33m\u001b[0m\u001b[1;33m\u001b[0m\u001b[0m\n\u001b[0m",
      "\u001b[1;31mTypeError\u001b[0m: 'tuple' object does not support item assignment"
     ]
    }
   ],
   "source": [
    "b=(\"apple\",\"mango\",\"orange\")\n",
    "b[0]=\"dragon-fruit\""
   ]
  },
  {
   "cell_type": "markdown",
   "id": "ad488e76",
   "metadata": {},
   "source": [
    "### Tuple Comprehension \n",
    "- Syntax : tuple_variable=[new_item for item in sequence [if] )"
   ]
  },
  {
   "cell_type": "code",
   "execution_count": 59,
   "id": "c27e2128",
   "metadata": {},
   "outputs": [
    {
     "name": "stdout",
     "output_type": "stream",
     "text": [
      "4\n",
      "16\n",
      "36\n",
      "64\n",
      "100\n"
     ]
    }
   ],
   "source": [
    "# Take square of only even numbers\n",
    "a=(1,2,3,4,5,6,7,8,9,10)\n",
    "for i in a:\n",
    "    if i%2==0:\n",
    "        print(i**2)"
   ]
  },
  {
   "cell_type": "code",
   "execution_count": 60,
   "id": "07420979",
   "metadata": {},
   "outputs": [
    {
     "name": "stdout",
     "output_type": "stream",
     "text": [
      "<generator object <genexpr> at 0x000002CE1D5134A0>\n"
     ]
    }
   ],
   "source": [
    "square=(I**2 for I in a if I%2==0)\n",
    "b=(r**2 for r in a if r%2==0)\n",
    "a=(i**2 for i in a if i%2==0)\n",
    "a=(r**2 for r in a if r%2==0)\n",
    "print(a)\n",
    "        "
   ]
  },
  {
   "cell_type": "markdown",
   "id": "3e55d649",
   "metadata": {},
   "source": [
    "###  Interview Question -- Deep Copy and Shallow Copy not valid for tuples as tuples are immutable\n",
    "- Deep Copy : A change in the modified version affects the original version\n",
    "- Shallow Copy : A change in the modified version does not affect the original version"
   ]
  },
  {
   "cell_type": "markdown",
   "id": "a11d9f9d",
   "metadata": {},
   "source": [
    "### Zip Function"
   ]
  },
  {
   "cell_type": "markdown",
   "id": "7b0d44ff",
   "metadata": {},
   "source": [
    "###### zip( ) is a built in function that takes two or more sequences and zips them into a list of tuples. The tuple thus formed has one element from each sequence."
   ]
  },
  {
   "cell_type": "code",
   "execution_count": 71,
   "id": "a031d2aa",
   "metadata": {},
   "outputs": [
    {
     "data": {
      "text/plain": [
       "[(401, 'Abdul'), (402, 'Swapnil'), (403, 'Adinath'), (404, 'Bhushan')]"
      ]
     },
     "execution_count": 71,
     "metadata": {},
     "output_type": "execute_result"
    }
   ],
   "source": [
    "a=(401,402,403,404)\n",
    "b=[\"Abdul\",\"Swapnil\",\"Adinath\",\"Bhushan\"]\n",
    "list(zip(a,b))"
   ]
  },
  {
   "cell_type": "markdown",
   "id": "5b943cb3",
   "metadata": {},
   "source": [
    "#### how to access the elements of list(zip(a,b))\n"
   ]
  },
  {
   "cell_type": "code",
   "execution_count": 72,
   "id": "cc23ee4d",
   "metadata": {},
   "outputs": [],
   "source": [
    "a=(401,402,403,404)\n",
    "b=[\"Abdul\",\"Swapnil\",\"Adinath\",\"Bhushan\"]\n",
    "students=list(zip(a,b))"
   ]
  },
  {
   "cell_type": "code",
   "execution_count": 75,
   "id": "e6bd2db7",
   "metadata": {},
   "outputs": [
    {
     "data": {
      "text/plain": [
       "'Adinath'"
      ]
     },
     "execution_count": 75,
     "metadata": {},
     "output_type": "execute_result"
    }
   ],
   "source": [
    "students[2][1]"
   ]
  },
  {
   "cell_type": "markdown",
   "id": "868554d6",
   "metadata": {},
   "source": [
    "### Variable length arguments - Convert the sent arguments into tuple"
   ]
  },
  {
   "cell_type": "code",
   "execution_count": 76,
   "id": "8fb030de",
   "metadata": {},
   "outputs": [
    {
     "data": {
      "text/plain": [
       "8"
      ]
     },
     "execution_count": 76,
     "metadata": {},
     "output_type": "execute_result"
    }
   ],
   "source": [
    "def add(a,b):\n",
    "    return a+b \n",
    "add(2,6)"
   ]
  },
  {
   "cell_type": "raw",
   "id": "c911d429",
   "metadata": {},
   "source": [
    "add(2,6,9,11)\n",
    "add(2,6,9,11,13,15)"
   ]
  },
  {
   "cell_type": "code",
   "execution_count": 81,
   "id": "0e6426c4",
   "metadata": {},
   "outputs": [],
   "source": [
    "def add(*x):\n",
    "    print(type(x))\n",
    "    sum=0\n",
    "    for i in x:\n",
    "        sum=sum+i\n",
    "    return sum"
   ]
  },
  {
   "cell_type": "code",
   "execution_count": 82,
   "id": "1edddec8",
   "metadata": {},
   "outputs": [
    {
     "name": "stdout",
     "output_type": "stream",
     "text": [
      "<class 'tuple'>\n"
     ]
    },
    {
     "data": {
      "text/plain": [
       "56"
      ]
     },
     "execution_count": 82,
     "metadata": {},
     "output_type": "execute_result"
    }
   ],
   "source": [
    "add(2,6,9,11,13,15)"
   ]
  },
  {
   "cell_type": "markdown",
   "id": "6dcc522b",
   "metadata": {},
   "source": [
    "#### Tuple Packing and Unpacking -- Specific only to tuple "
   ]
  },
  {
   "cell_type": "code",
   "execution_count": null,
   "id": "a3031f64",
   "metadata": {},
   "outputs": [],
   "source": [
    "a=(401,402,403,404) #Tuple assignment -- Packing a tuple"
   ]
  },
  {
   "cell_type": "code",
   "execution_count": 84,
   "id": "1fc6b6f3",
   "metadata": {},
   "outputs": [],
   "source": [
    "def simple(n1,n2):\n",
    "    return n1,n2"
   ]
  },
  {
   "cell_type": "code",
   "execution_count": 109,
   "id": "87af1582",
   "metadata": {},
   "outputs": [],
   "source": [
    "x,y=simple(4,5)"
   ]
  },
  {
   "cell_type": "markdown",
   "id": "7e30e5bd",
   "metadata": {},
   "source": [
    "###### Unpacking"
   ]
  },
  {
   "cell_type": "code",
   "execution_count": 105,
   "id": "ff5c1049",
   "metadata": {},
   "outputs": [],
   "source": [
    "(*a,)=simple(1,3)\n",
    "[*a]=simple(1,3)"
   ]
  }
 ],
 "metadata": {
  "kernelspec": {
   "display_name": "Python 3 (ipykernel)",
   "language": "python",
   "name": "python3"
  },
  "language_info": {
   "codemirror_mode": {
    "name": "ipython",
    "version": 3
   },
   "file_extension": ".py",
   "mimetype": "text/x-python",
   "name": "python",
   "nbconvert_exporter": "python",
   "pygments_lexer": "ipython3",
   "version": "3.9.7"
  }
 },
 "nbformat": 4,
 "nbformat_minor": 5
}
