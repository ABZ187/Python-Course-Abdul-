{
 "cells": [
  {
   "cell_type": "markdown",
   "id": "0470f766",
   "metadata": {},
   "source": [
    "### Syntax"
   ]
  },
  {
   "cell_type": "markdown",
   "id": "c9da4196",
   "metadata": {},
   "source": [
    "def functionName():\n",
    "    #code here"
   ]
  },
  {
   "cell_type": "markdown",
   "id": "9ee85a6a",
   "metadata": {},
   "source": [
    "### Simple Function"
   ]
  },
  {
   "cell_type": "code",
   "execution_count": 30,
   "id": "9114c706",
   "metadata": {},
   "outputs": [
    {
     "data": {
      "text/plain": [
       "'Hello'"
      ]
     },
     "execution_count": 30,
     "metadata": {},
     "output_type": "execute_result"
    }
   ],
   "source": [
    "# Function define\n",
    "def greetings():\n",
    "    return \"Hello\"\n",
    "\n",
    "# Function call\n",
    "greetings()"
   ]
  },
  {
   "cell_type": "markdown",
   "id": "c673426e",
   "metadata": {},
   "source": [
    "#### Making our own print function -- using parameters"
   ]
  },
  {
   "cell_type": "code",
   "execution_count": 35,
   "id": "dd36fdf5",
   "metadata": {},
   "outputs": [],
   "source": [
    "def Print(a):\n",
    "    return a"
   ]
  },
  {
   "cell_type": "code",
   "execution_count": 36,
   "id": "0e6d0f27",
   "metadata": {},
   "outputs": [
    {
     "data": {
      "text/plain": [
       "\"Today is Dhoni's birthday\""
      ]
     },
     "execution_count": 36,
     "metadata": {},
     "output_type": "execute_result"
    }
   ],
   "source": [
    "Print(\"Today is Dhoni's birthday\") "
   ]
  },
  {
   "cell_type": "markdown",
   "id": "25b62b2e",
   "metadata": {},
   "source": [
    "### Add Function"
   ]
  },
  {
   "cell_type": "code",
   "execution_count": 14,
   "id": "c6b60458",
   "metadata": {},
   "outputs": [],
   "source": [
    "def add(x,y):\n",
    "    #print(\"hello\")\n",
    "    return x+y\n",
    "    #code"
   ]
  },
  {
   "cell_type": "code",
   "execution_count": 15,
   "id": "44f88ce6",
   "metadata": {},
   "outputs": [
    {
     "data": {
      "text/plain": [
       "5"
      ]
     },
     "execution_count": 15,
     "metadata": {},
     "output_type": "execute_result"
    }
   ],
   "source": [
    "add(2,3)"
   ]
  },
  {
   "cell_type": "markdown",
   "id": "3ea4e587",
   "metadata": {},
   "source": [
    "### Replicating Range Function"
   ]
  },
  {
   "cell_type": "markdown",
   "id": "6828bf24",
   "metadata": {},
   "source": [
    "#### Original function"
   ]
  },
  {
   "cell_type": "code",
   "execution_count": 16,
   "id": "a89eeb5c",
   "metadata": {},
   "outputs": [
    {
     "name": "stdout",
     "output_type": "stream",
     "text": [
      "0\n",
      "1\n",
      "2\n",
      "3\n",
      "4\n"
     ]
    }
   ],
   "source": [
    "for number in range(0,5):\n",
    "    print(number)"
   ]
  },
  {
   "cell_type": "code",
   "execution_count": 30,
   "id": "5f73caf1",
   "metadata": {},
   "outputs": [],
   "source": [
    "def Range(x,y):\n",
    "    while (x!=y):\n",
    "        print(x)\n",
    "        x=x+1"
   ]
  },
  {
   "cell_type": "code",
   "execution_count": 31,
   "id": "ff79f479",
   "metadata": {},
   "outputs": [
    {
     "name": "stdout",
     "output_type": "stream",
     "text": [
      "0\n",
      "1\n",
      "2\n",
      "3\n",
      "4\n",
      "5\n"
     ]
    }
   ],
   "source": [
    "Range(0,5)"
   ]
  },
  {
   "cell_type": "markdown",
   "id": "b2fcd71e",
   "metadata": {},
   "source": [
    "#### Return function Caution!!!"
   ]
  },
  {
   "cell_type": "code",
   "execution_count": 34,
   "id": "d459a7e4",
   "metadata": {},
   "outputs": [
    {
     "data": {
      "text/plain": [
       "'Even'"
      ]
     },
     "execution_count": 34,
     "metadata": {},
     "output_type": "execute_result"
    }
   ],
   "source": [
    "# Function define\n",
    "def greetings():\n",
    "    return \"Even\"\n",
    "    return \"Odd\"\n",
    "    #return \"Good Morning\"\n",
    "\n",
    "# Function call\n",
    "greetings()"
   ]
  },
  {
   "cell_type": "code",
   "execution_count": 37,
   "id": "04177196",
   "metadata": {},
   "outputs": [],
   "source": [
    "def checkEven(number):\n",
    "    if(number%2==0):\n",
    "        return \"Even\"\n",
    "    else:\n",
    "        return \"Odd\""
   ]
  },
  {
   "cell_type": "code",
   "execution_count": 38,
   "id": "be385d84",
   "metadata": {},
   "outputs": [
    {
     "data": {
      "text/plain": [
       "'Even'"
      ]
     },
     "execution_count": 38,
     "metadata": {},
     "output_type": "execute_result"
    }
   ],
   "source": [
    "checkEven(2)"
   ]
  },
  {
   "cell_type": "markdown",
   "id": "5d35520d",
   "metadata": {},
   "source": [
    "### Default Arguments (keyword argument) : Value predefined if not provided in function call\n",
    "- Default arguments should always come towards the end of the argument/parameter list"
   ]
  },
  {
   "cell_type": "code",
   "execution_count": 71,
   "id": "0526ca64",
   "metadata": {},
   "outputs": [],
   "source": [
    "def Range(x,y,step=1):\n",
    "    #print(\"The step is \",step)\n",
    "    while (x<y):\n",
    "        print(x)\n",
    "        x=x+step"
   ]
  },
  {
   "cell_type": "code",
   "execution_count": 86,
   "id": "4cd1273b",
   "metadata": {},
   "outputs": [
    {
     "name": "stdout",
     "output_type": "stream",
     "text": [
      "0\n",
      "2\n",
      "4\n"
     ]
    }
   ],
   "source": [
    "Range(0,5,2)"
   ]
  }
 ],
 "metadata": {
  "kernelspec": {
   "display_name": "Python 3 (ipykernel)",
   "language": "python",
   "name": "python3"
  },
  "language_info": {
   "codemirror_mode": {
    "name": "ipython",
    "version": 3
   },
   "file_extension": ".py",
   "mimetype": "text/x-python",
   "name": "python",
   "nbconvert_exporter": "python",
   "pygments_lexer": "ipython3",
   "version": "3.9.7"
  }
 },
 "nbformat": 4,
 "nbformat_minor": 5
}
