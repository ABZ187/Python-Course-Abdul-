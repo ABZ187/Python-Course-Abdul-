{
 "cells": [
  {
   "cell_type": "markdown",
   "id": "a5c89f17",
   "metadata": {},
   "source": [
    "### Dictionary  {key:value}\n",
    "- Dictionaries are used to store data values in \"key: value\" pairs.\n",
    "    - The values of a dictionary can be of any type, but the keys must be of an immutable data type such as strings, numbers, or tuples.\n",
    "    - A dictionary is a collection which is unordered\n",
    "    - Keys cannot be duplicate"
   ]
  },
  {
   "cell_type": "code",
   "execution_count": 7,
   "id": "85e0258d",
   "metadata": {},
   "outputs": [],
   "source": [
    "a={1:\"apple\",2:\"banana\",3:[\"papaya\",\"mango\"]}"
   ]
  },
  {
   "cell_type": "markdown",
   "id": "2a8c8cee",
   "metadata": {},
   "source": [
    "#### To access keys of the dictionary \n",
    "- Method 1 - dict_variable.keys()"
   ]
  },
  {
   "cell_type": "code",
   "execution_count": 8,
   "id": "69e23e69",
   "metadata": {},
   "outputs": [
    {
     "data": {
      "text/plain": [
       "dict_keys([1, 2, 3])"
      ]
     },
     "execution_count": 8,
     "metadata": {},
     "output_type": "execute_result"
    }
   ],
   "source": [
    "a.keys()"
   ]
  },
  {
   "cell_type": "markdown",
   "id": "8879e21b",
   "metadata": {},
   "source": [
    "#### To access value of dictionary \n",
    "- Technique 1 - Using keys\n",
    "- Technique 2- dict_variable.values()"
   ]
  },
  {
   "cell_type": "code",
   "execution_count": 6,
   "id": "a80d23f6",
   "metadata": {},
   "outputs": [
    {
     "data": {
      "text/plain": [
       "['papaya', 'mango']"
      ]
     },
     "execution_count": 6,
     "metadata": {},
     "output_type": "execute_result"
    }
   ],
   "source": [
    "# Using keys\n",
    "a[3] # This is a key not an index\n",
    "a.get(3)"
   ]
  },
  {
   "cell_type": "code",
   "execution_count": 9,
   "id": "504a00e7",
   "metadata": {},
   "outputs": [
    {
     "data": {
      "text/plain": [
       "dict_values(['apple', 'banana', ['papaya', 'mango']])"
      ]
     },
     "execution_count": 9,
     "metadata": {},
     "output_type": "execute_result"
    }
   ],
   "source": [
    "a.values()"
   ]
  },
  {
   "cell_type": "markdown",
   "id": "0f28b09f",
   "metadata": {},
   "source": [
    "### To access key as well as values of dictionary\n",
    "- dict_variable.items()"
   ]
  },
  {
   "cell_type": "code",
   "execution_count": 11,
   "id": "be05f32d",
   "metadata": {},
   "outputs": [
    {
     "name": "stdout",
     "output_type": "stream",
     "text": [
      "The key is  1\n",
      "The value is  apple\n",
      "The key is  2\n",
      "The value is  banana\n",
      "The key is  3\n",
      "The value is  ['papaya', 'mango']\n"
     ]
    }
   ],
   "source": [
    "for key,value in a.items():\n",
    "    print(\"The key is \",key)\n",
    "    print(\"The value is \",value)"
   ]
  },
  {
   "cell_type": "markdown",
   "id": "956d860c",
   "metadata": {},
   "source": [
    "### Nested Dictionary"
   ]
  },
  {
   "cell_type": "code",
   "execution_count": 17,
   "id": "41b049db",
   "metadata": {},
   "outputs": [],
   "source": [
    "myfamily={\"student1\":{\"name\":\"Swapnil\",\"year\":2022},\"student2\":{\"name\":\"Bhushan\",\"year\":2021},\"student3\":{\"name\":\"Adinath\",\"year\":2023}}"
   ]
  },
  {
   "cell_type": "code",
   "execution_count": 18,
   "id": "c2532e0f",
   "metadata": {},
   "outputs": [
    {
     "data": {
      "text/plain": [
       "{'student1': {'name': 'Swapnil', 'year': 2022},\n",
       " 'student2': {'name': 'Bhushan', 'year': 2021},\n",
       " 'student3': {'name': 'Adinath', 'year': 2023}}"
      ]
     },
     "execution_count": 18,
     "metadata": {},
     "output_type": "execute_result"
    }
   ],
   "source": [
    "myfamily"
   ]
  },
  {
   "cell_type": "code",
   "execution_count": 20,
   "id": "43daf239",
   "metadata": {},
   "outputs": [
    {
     "data": {
      "text/plain": [
       "2022"
      ]
     },
     "execution_count": 20,
     "metadata": {},
     "output_type": "execute_result"
    }
   ],
   "source": [
    "myfamily[\"student1\"][\"year\"]"
   ]
  },
  {
   "cell_type": "code",
   "execution_count": 23,
   "id": "6974fe5f",
   "metadata": {},
   "outputs": [
    {
     "data": {
      "text/plain": [
       "'Adinath'"
      ]
     },
     "execution_count": 23,
     "metadata": {},
     "output_type": "execute_result"
    }
   ],
   "source": [
    "myfamily[\"student3\"][\"name\"]"
   ]
  },
  {
   "cell_type": "markdown",
   "id": "ce5985ac",
   "metadata": {},
   "source": [
    "#### Deep Copy and Shallow Copy issue"
   ]
  },
  {
   "cell_type": "code",
   "execution_count": 36,
   "id": "f7965c9d",
   "metadata": {},
   "outputs": [],
   "source": [
    "a={1:\"apple\",2:\"banana\",3:[\"papaya\",\"mango\"]}\n",
    "b=a  # Shallow copy"
   ]
  },
  {
   "cell_type": "code",
   "execution_count": 37,
   "id": "97c82909",
   "metadata": {},
   "outputs": [
    {
     "data": {
      "text/plain": [
       "2529207215552"
      ]
     },
     "execution_count": 37,
     "metadata": {},
     "output_type": "execute_result"
    }
   ],
   "source": [
    "id(b)"
   ]
  },
  {
   "cell_type": "code",
   "execution_count": 38,
   "id": "0752bef7",
   "metadata": {},
   "outputs": [
    {
     "data": {
      "text/plain": [
       "2529207215552"
      ]
     },
     "execution_count": 38,
     "metadata": {},
     "output_type": "execute_result"
    }
   ],
   "source": [
    "id(a)"
   ]
  },
  {
   "cell_type": "code",
   "execution_count": 39,
   "id": "f8e69cb7",
   "metadata": {},
   "outputs": [],
   "source": [
    "a={1:\"apple\",2:\"banana\",3:[\"papaya\",\"mango\"]}\n",
    "b=a.copy() # Deep Copy"
   ]
  },
  {
   "cell_type": "code",
   "execution_count": 40,
   "id": "3011b729",
   "metadata": {},
   "outputs": [
    {
     "data": {
      "text/plain": [
       "2529207216640"
      ]
     },
     "execution_count": 40,
     "metadata": {},
     "output_type": "execute_result"
    }
   ],
   "source": [
    "id(b)"
   ]
  },
  {
   "cell_type": "code",
   "execution_count": 41,
   "id": "b889ee85",
   "metadata": {},
   "outputs": [
    {
     "data": {
      "text/plain": [
       "2529206972992"
      ]
     },
     "execution_count": 41,
     "metadata": {},
     "output_type": "execute_result"
    }
   ],
   "source": [
    "id(a)"
   ]
  }
 ],
 "metadata": {
  "kernelspec": {
   "display_name": "Python 3.9.6 64-bit",
   "language": "python",
   "name": "python3"
  },
  "language_info": {
   "codemirror_mode": {
    "name": "ipython",
    "version": 3
   },
   "file_extension": ".py",
   "mimetype": "text/x-python",
   "name": "python",
   "nbconvert_exporter": "python",
   "pygments_lexer": "ipython3",
   "version": "3.9.6"
  },
  "vscode": {
   "interpreter": {
    "hash": "0d591c6e422414675974e227c13f5382000c440fedd3c5006ef2be5d887f0ba7"
   }
  }
 },
 "nbformat": 4,
 "nbformat_minor": 5
}
