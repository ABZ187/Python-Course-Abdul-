{
 "cells": [
  {
   "cell_type": "markdown",
   "id": "6b2c22cf",
   "metadata": {},
   "source": [
    "### What are decorators?"
   ]
  },
  {
   "cell_type": "code",
   "execution_count": 10,
   "id": "52f86e59",
   "metadata": {},
   "outputs": [],
   "source": [
    "def xyz():\n",
    "    print(\"Hello\")"
   ]
  },
  {
   "cell_type": "code",
   "execution_count": 13,
   "id": "fc4c66f2",
   "metadata": {},
   "outputs": [
    {
     "name": "stdout",
     "output_type": "stream",
     "text": [
      "Hello\n"
     ]
    }
   ],
   "source": [
    "xyz()"
   ]
  },
  {
   "cell_type": "code",
   "execution_count": 16,
   "id": "ad073177",
   "metadata": {},
   "outputs": [
    {
     "data": {
      "text/plain": [
       "2617350753728"
      ]
     },
     "execution_count": 16,
     "metadata": {},
     "output_type": "execute_result"
    }
   ],
   "source": [
    "id(xyz)"
   ]
  },
  {
   "cell_type": "markdown",
   "id": "78fe0dcb",
   "metadata": {},
   "source": [
    "##### Calling function with another name"
   ]
  },
  {
   "cell_type": "code",
   "execution_count": 23,
   "id": "7c0e1f20",
   "metadata": {},
   "outputs": [],
   "source": [
    "abc=xyz"
   ]
  },
  {
   "cell_type": "code",
   "execution_count": 29,
   "id": "f346ccef",
   "metadata": {},
   "outputs": [
    {
     "name": "stdout",
     "output_type": "stream",
     "text": [
      "Hello\n"
     ]
    }
   ],
   "source": [
    "abc()"
   ]
  },
  {
   "cell_type": "markdown",
   "id": "b53927af",
   "metadata": {},
   "source": [
    "##### Nested functions"
   ]
  },
  {
   "cell_type": "code",
   "execution_count": 55,
   "id": "a5246ab4",
   "metadata": {},
   "outputs": [],
   "source": [
    "def xyz(y):\n",
    "    print(\"Hello\")\n",
    "    def abc(x):\n",
    "        print(\"Bye \"*x)\n",
    "    abc(y)"
   ]
  },
  {
   "cell_type": "code",
   "execution_count": 56,
   "id": "41b41698",
   "metadata": {},
   "outputs": [
    {
     "name": "stdout",
     "output_type": "stream",
     "text": [
      "Hello\n",
      "Bye Bye Bye Bye Bye \n"
     ]
    }
   ],
   "source": [
    "xyz(5)"
   ]
  },
  {
   "cell_type": "markdown",
   "id": "22a6d837",
   "metadata": {},
   "source": [
    "#### Passing function as an argument"
   ]
  },
  {
   "cell_type": "code",
   "execution_count": 59,
   "id": "927e8369",
   "metadata": {},
   "outputs": [],
   "source": [
    "def calculateSum(x):\n",
    "    return sum(x)"
   ]
  },
  {
   "cell_type": "code",
   "execution_count": 60,
   "id": "ed95b3fd",
   "metadata": {},
   "outputs": [
    {
     "data": {
      "text/plain": [
       "9"
      ]
     },
     "execution_count": 60,
     "metadata": {},
     "output_type": "execute_result"
    }
   ],
   "source": [
    "calculateSum([2,3,4])"
   ]
  },
  {
   "cell_type": "code",
   "execution_count": 2,
   "id": "bb432920",
   "metadata": {},
   "outputs": [],
   "source": [
    "def calculate(f1,x):\n",
    "     a=f1()\n",
    "     print(a)"
   ]
  },
  {
   "cell_type": "code",
   "execution_count": 12,
   "id": "77a1ada2",
   "metadata": {},
   "outputs": [],
   "source": [
    "def greet():\n",
    "    return \"hello \""
   ]
  },
  {
   "cell_type": "code",
   "execution_count": 14,
   "id": "15ab25ae",
   "metadata": {},
   "outputs": [
    {
     "name": "stdout",
     "output_type": "stream",
     "text": [
      "hello \n"
     ]
    }
   ],
   "source": [
    "calculate(greet,5)"
   ]
  },
  {
   "cell_type": "markdown",
   "id": "2464d38e",
   "metadata": {},
   "source": [
    "#### Concepts used in the example below - Nesting of function , passing function as a parameter"
   ]
  },
  {
   "cell_type": "code",
   "execution_count": 8,
   "id": "c9ab8cdf",
   "metadata": {},
   "outputs": [],
   "source": [
    "def getResults(fun1):\n",
    "    def getMarks():\n",
    "        print(\"Getting Marks\")\n",
    "        marks=fun1()  # We are calling calculateScore(x,y)\n",
    "        #print(\"The marks are \",marks)\n",
    "        print(\"Marks Obtained\")\n",
    "    return getMarks()"
   ]
  },
  {
   "cell_type": "code",
   "execution_count": null,
   "id": "617b44af",
   "metadata": {
    "scrolled": true
   },
   "outputs": [],
   "source": [
    "getResults(calculateScore,45,45)\n",
    "getResults(calculateScore,40,45)"
   ]
  },
  {
   "cell_type": "markdown",
   "id": "ec5db3b1",
   "metadata": {},
   "source": [
    "###  Decorator is a function that takes another function as an argument, adds some additional functionality, thereby enhancing it and then returns an enhanced function. All of this happens without altering the source code of the original function.\n"
   ]
  },
  {
   "cell_type": "code",
   "execution_count": 9,
   "id": "c1ab1f49",
   "metadata": {},
   "outputs": [],
   "source": [
    "def getResults(fun1):\n",
    "    def getMarks():\n",
    "        print(\"Getting Marks\")\n",
    "        marks=fun1()\n",
    "        print(\"Marks Obtained\")\n",
    "    return getMarks()"
   ]
  },
  {
   "cell_type": "code",
   "execution_count": 10,
   "id": "6f3c1cbd",
   "metadata": {},
   "outputs": [
    {
     "name": "stdout",
     "output_type": "stream",
     "text": [
      "Getting Marks\n",
      "5\n",
      "Marks Obtained\n"
     ]
    }
   ],
   "source": [
    "@getResults  #Same as calling getResults(calculateScore)\n",
    "def calculateScore(x=2,y=3):\n",
    "    print(x+y)\n"
   ]
  },
  {
   "cell_type": "code",
   "execution_count": 11,
   "id": "b25364ae",
   "metadata": {},
   "outputs": [
    {
     "name": "stdout",
     "output_type": "stream",
     "text": [
      "Getting Marks\n"
     ]
    },
    {
     "ename": "TypeError",
     "evalue": "'NoneType' object is not callable",
     "output_type": "error",
     "traceback": [
      "\u001b[1;31m---------------------------------------------------------------------------\u001b[0m",
      "\u001b[1;31mTypeError\u001b[0m                                 Traceback (most recent call last)",
      "Cell \u001b[1;32mIn [11], line 1\u001b[0m\n\u001b[1;32m----> 1\u001b[0m \u001b[43mgetResults\u001b[49m\u001b[43m(\u001b[49m\u001b[43mcalculateScore\u001b[49m\u001b[43m)\u001b[49m\n",
      "Cell \u001b[1;32mIn [9], line 6\u001b[0m, in \u001b[0;36mgetResults\u001b[1;34m(fun1)\u001b[0m\n\u001b[0;32m      4\u001b[0m     marks\u001b[38;5;241m=\u001b[39mfun1()\n\u001b[0;32m      5\u001b[0m     \u001b[38;5;28mprint\u001b[39m(\u001b[38;5;124m\"\u001b[39m\u001b[38;5;124mMarks Obtained\u001b[39m\u001b[38;5;124m\"\u001b[39m)\n\u001b[1;32m----> 6\u001b[0m \u001b[38;5;28;01mreturn\u001b[39;00m \u001b[43mgetMarks\u001b[49m\u001b[43m(\u001b[49m\u001b[43m)\u001b[49m\n",
      "Cell \u001b[1;32mIn [9], line 4\u001b[0m, in \u001b[0;36mgetResults.<locals>.getMarks\u001b[1;34m()\u001b[0m\n\u001b[0;32m      2\u001b[0m \u001b[38;5;28;01mdef\u001b[39;00m \u001b[38;5;21mgetMarks\u001b[39m():\n\u001b[0;32m      3\u001b[0m     \u001b[38;5;28mprint\u001b[39m(\u001b[38;5;124m\"\u001b[39m\u001b[38;5;124mGetting Marks\u001b[39m\u001b[38;5;124m\"\u001b[39m)\n\u001b[1;32m----> 4\u001b[0m     marks\u001b[38;5;241m=\u001b[39m\u001b[43mfun1\u001b[49m\u001b[43m(\u001b[49m\u001b[43m)\u001b[49m\n\u001b[0;32m      5\u001b[0m     \u001b[38;5;28mprint\u001b[39m(\u001b[38;5;124m\"\u001b[39m\u001b[38;5;124mMarks Obtained\u001b[39m\u001b[38;5;124m\"\u001b[39m)\n",
      "\u001b[1;31mTypeError\u001b[0m: 'NoneType' object is not callable"
     ]
    }
   ],
   "source": [
    "getResults(calculateScore)"
   ]
  }
 ],
 "metadata": {
  "kernelspec": {
   "display_name": "Python 3.9.6 64-bit",
   "language": "python",
   "name": "python3"
  },
  "language_info": {
   "codemirror_mode": {
    "name": "ipython",
    "version": 3
   },
   "file_extension": ".py",
   "mimetype": "text/x-python",
   "name": "python",
   "nbconvert_exporter": "python",
   "pygments_lexer": "ipython3",
   "version": "3.9.6"
  },
  "vscode": {
   "interpreter": {
    "hash": "0d591c6e422414675974e227c13f5382000c440fedd3c5006ef2be5d887f0ba7"
   }
  }
 },
 "nbformat": 4,
 "nbformat_minor": 5
}
