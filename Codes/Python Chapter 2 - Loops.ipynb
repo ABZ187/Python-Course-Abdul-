{
 "cells": [
  {
   "cell_type": "code",
   "execution_count": 1,
   "id": "c919a20a",
   "metadata": {},
   "outputs": [
    {
     "name": "stdout",
     "output_type": "stream",
     "text": [
      "Hello\n"
     ]
    }
   ],
   "source": [
    "if(1>0):\n",
    "    print(\"Hello\")"
   ]
  },
  {
   "cell_type": "markdown",
   "id": "b40149e8",
   "metadata": {},
   "source": [
    "#### Infinite while loop ( Press the square button next to run to stop execution)"
   ]
  },
  {
   "cell_type": "code",
   "execution_count": null,
   "id": "51daa698",
   "metadata": {},
   "outputs": [],
   "source": [
    "# Iteration means how many times the loop will execute\n",
    "iterator=0  #Initialization\n",
    "while(1>0): #Infinite loop\n",
    "    print(iterator) #Print the counter\n",
    "    print(\"Hello\") \n",
    "    iterator=iterator+1 #Increase the counter by 1"
   ]
  },
  {
   "cell_type": "code",
   "execution_count": 14,
   "id": "4087801b",
   "metadata": {},
   "outputs": [
    {
     "name": "stdout",
     "output_type": "stream",
     "text": [
      "Iterator count is 0\n",
      "Hello\n",
      "Iterator count is 1\n",
      "Hello\n",
      "Iterator count is 2\n",
      "Hello\n",
      "--------------------\n"
     ]
    }
   ],
   "source": [
    "# Iteration means how many times the loop will execute\n",
    "iterator=0 #Definition here\n",
    "while(iterator<3): #Condition here\n",
    "    print(\"Iterator count is\",iterator) #Print the counter\n",
    "    print(\"Hello\") \n",
    "    iterator=iterator+1 #Increase the counter by 1\n",
    "print(\"-\"*20)"
   ]
  },
  {
   "cell_type": "code",
   "execution_count": null,
   "id": "f54e779c",
   "metadata": {},
   "outputs": [],
   "source": [
    "range()"
   ]
  },
  {
   "cell_type": "raw",
   "id": "597b43ac",
   "metadata": {},
   "source": [
    "for counter in range(defn,condition,step):\n",
    "               range(start,stop,step):\n",
    "    body\n",
    "    "
   ]
  },
  {
   "cell_type": "code",
   "execution_count": 23,
   "id": "77e5b3bb",
   "metadata": {},
   "outputs": [
    {
     "name": "stdout",
     "output_type": "stream",
     "text": [
      "--------------------\n"
     ]
    }
   ],
   "source": [
    "#iterator=0\n",
    "#condition : iterator < 3\n",
    "for counter in range(1,4):  # Range tells Python where to start and where to end\n",
    "    print(\"Iterator count is\",counter)\n",
    "    print(\"Hello\") \n",
    "    #iterator=iterator+1  # For loop implicitly increases the count by 1.\n",
    "print(\"-\"*20)"
   ]
  },
  {
   "cell_type": "code",
   "execution_count": 25,
   "id": "16d2a539",
   "metadata": {},
   "outputs": [
    {
     "name": "stdout",
     "output_type": "stream",
     "text": [
      "0\n",
      "1\n",
      "2\n",
      "3\n",
      "4\n",
      "5\n",
      "6\n",
      "7\n",
      "8\n",
      "9\n",
      "10\n"
     ]
    }
   ],
   "source": [
    "for number in range(0,11):\n",
    "    print(number)"
   ]
  },
  {
   "cell_type": "markdown",
   "id": "5bedabc8",
   "metadata": {},
   "source": [
    "### Quick Recap"
   ]
  },
  {
   "cell_type": "markdown",
   "id": "8d3b8f63",
   "metadata": {},
   "source": [
    "##### While loop uses 3 different steps for\n",
    "- Initialization\n",
    "- Condition\n",
    "- Increment / Decrement"
   ]
  },
  {
   "cell_type": "code",
   "execution_count": null,
   "id": "5b2212ff",
   "metadata": {},
   "outputs": [],
   "source": [
    "i=0 # initialization\n",
    "while(i<5): # Condition\n",
    "    print(\"Hello\") \n",
    "    i=i+1 # Increment"
   ]
  },
  {
   "cell_type": "markdown",
   "id": "edfc2a10",
   "metadata": {},
   "source": [
    "##### For loop combines all these 3 different steps into a single step\n",
    "- Initialization\n",
    "- Condition\n",
    "- Increment / Decrement"
   ]
  },
  {
   "cell_type": "code",
   "execution_count": null,
   "id": "31bcadc9",
   "metadata": {},
   "outputs": [],
   "source": [
    "for i in range(0,5): #Default behaviour increment\n",
    "    print(\"Hello\") "
   ]
  },
  {
   "cell_type": "markdown",
   "id": "f3a9e2d8",
   "metadata": {},
   "source": [
    "### Range Function"
   ]
  },
  {
   "cell_type": "code",
   "execution_count": null,
   "id": "6c4622aa",
   "metadata": {},
   "outputs": [],
   "source": [
    "range() -- Step parameter"
   ]
  },
  {
   "cell_type": "markdown",
   "id": "080e0341",
   "metadata": {},
   "source": [
    "##### Even numbers"
   ]
  },
  {
   "cell_type": "code",
   "execution_count": 13,
   "id": "b61d5384",
   "metadata": {},
   "outputs": [
    {
     "name": "stdout",
     "output_type": "stream",
     "text": [
      "0\n",
      "2\n",
      "4\n",
      "6\n",
      "8\n"
     ]
    }
   ],
   "source": [
    "for i in range(0,10,2): #Default behaviour increment\n",
    "    print(i) "
   ]
  },
  {
   "cell_type": "markdown",
   "id": "1f9bcef7",
   "metadata": {},
   "source": [
    "##### Odd numbers"
   ]
  },
  {
   "cell_type": "code",
   "execution_count": 14,
   "id": "bdcd68ad",
   "metadata": {},
   "outputs": [
    {
     "name": "stdout",
     "output_type": "stream",
     "text": [
      "1\n",
      "3\n",
      "5\n",
      "7\n",
      "9\n"
     ]
    }
   ],
   "source": [
    "for i in range(1,10,2): #Default behaviour increment\n",
    "    print(i) "
   ]
  },
  {
   "cell_type": "code",
   "execution_count": 30,
   "id": "136c3cc9",
   "metadata": {},
   "outputs": [
    {
     "name": "stdout",
     "output_type": "stream",
     "text": [
      "4\n",
      "3\n",
      "2\n",
      "1\n"
     ]
    }
   ],
   "source": [
    "for i in range(4,0,-1): #Decrement behaviour\n",
    "    print(i) "
   ]
  },
  {
   "cell_type": "markdown",
   "id": "f0e6f7c2",
   "metadata": {},
   "source": [
    "### Break Statement"
   ]
  },
  {
   "cell_type": "code",
   "execution_count": 34,
   "id": "7e0aa268",
   "metadata": {},
   "outputs": [
    {
     "name": "stdout",
     "output_type": "stream",
     "text": [
      "0\n",
      "1\n",
      "2\n",
      "3\n",
      "4\n",
      "5\n",
      "Here i is 5\n"
     ]
    }
   ],
   "source": [
    "for i in range(0,10): #Default behaviour increment\n",
    "    # when i=5 break the loop\n",
    "    print(i)\n",
    "    if(i==5):\n",
    "        print(\"Here i is 5\")\n",
    "        break   # Helps you come out of the loop"
   ]
  },
  {
   "cell_type": "markdown",
   "id": "165f99b6",
   "metadata": {},
   "source": [
    "### Continue statement"
   ]
  },
  {
   "cell_type": "code",
   "execution_count": 46,
   "id": "e2a9fcd6",
   "metadata": {},
   "outputs": [
    {
     "name": "stdout",
     "output_type": "stream",
     "text": [
      "The number is 0\n",
      "The number is 1\n",
      "The number is 2\n",
      "The number is 3\n",
      "The number is 4\n",
      "Need to continue as number is  5\n",
      "The number is 6\n",
      "The number is 7\n",
      "The number is 8\n",
      "The number is 9\n"
     ]
    }
   ],
   "source": [
    "for i in range(0,10): #Default behaviour increment\n",
    "    # when i=5 break the loop\n",
    "    if(i==5):\n",
    "        print(\"Need to continue as number is \",5)\n",
    "        continue   # Go back to the start of loop and skip code below\n",
    "    print(f\"The number is {i}\")"
   ]
  }
 ],
 "metadata": {
  "kernelspec": {
   "display_name": "Python 3 (ipykernel)",
   "language": "python",
   "name": "python3"
  },
  "language_info": {
   "codemirror_mode": {
    "name": "ipython",
    "version": 3
   },
   "file_extension": ".py",
   "mimetype": "text/x-python",
   "name": "python",
   "nbconvert_exporter": "python",
   "pygments_lexer": "ipython3",
   "version": "3.9.7"
  }
 },
 "nbformat": 4,
 "nbformat_minor": 5
}
