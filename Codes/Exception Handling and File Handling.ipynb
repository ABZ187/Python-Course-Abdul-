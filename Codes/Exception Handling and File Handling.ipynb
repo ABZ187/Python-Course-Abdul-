{
 "cells": [
  {
   "cell_type": "code",
   "execution_count": 1,
   "id": "4abc061f",
   "metadata": {},
   "outputs": [],
   "source": [
    "\n",
    "food={\"fruits\":[\"apple\",\"mango\"],\"vegetables\":[\"potato\",\"cabbage\"]}"
   ]
  },
  {
   "cell_type": "raw",
   "id": "6405da14",
   "metadata": {},
   "source": [
    "try:\n",
    "    #Code\n",
    "except:\n",
    "    #Code"
   ]
  },
  {
   "cell_type": "code",
   "execution_count": 4,
   "id": "90023700",
   "metadata": {},
   "outputs": [
    {
     "data": {
      "text/plain": [
       "{'fruits': ['mango'],\n",
       " 'vegetables': ['potato', 'cabbage', 'tomato', 'tomato', 'tomato']}"
      ]
     },
     "execution_count": 4,
     "metadata": {},
     "output_type": "execute_result"
    }
   ],
   "source": [
    "try:\n",
    "    # fruit=food[\"fruits\"]\n",
    "    # fruit.remove(\"apple\")\n",
    "    # food[\"fruits\"]=fruit\n",
    "    food[\"fruits\"].remove(\"apple\") # If error comes it skips all the lines ahead and jumps to Except block \n",
    "except Exception as e:\n",
    "    print(\"The error is\", str(e))\n",
    "food[\"vegetables\"].append(\"tomato\")    \n",
    "#food[\"vegetables\"].append(\"tomato\")\n",
    "food"
   ]
  },
  {
   "cell_type": "code",
   "execution_count": 5,
   "id": "d769805b",
   "metadata": {},
   "outputs": [
    {
     "data": {
      "text/plain": [
       "['potato', 'cabbage', 'tomato', 'tomato', 'tomato']"
      ]
     },
     "execution_count": 5,
     "metadata": {},
     "output_type": "execute_result"
    }
   ],
   "source": [
    "food[\"vegetables\"]"
   ]
  },
  {
   "cell_type": "code",
   "execution_count": 6,
   "id": "1d5c6757",
   "metadata": {},
   "outputs": [
    {
     "data": {
      "text/plain": [
       "{'fruits': ['mango'],\n",
       " 'vegetables': ['potato', 'cabbage', 'tomato', 'tomato', 'tomato']}"
      ]
     },
     "execution_count": 6,
     "metadata": {},
     "output_type": "execute_result"
    }
   ],
   "source": [
    "food"
   ]
  },
  {
   "cell_type": "markdown",
   "id": "4c11f1d6",
   "metadata": {},
   "source": [
    "## File Handling"
   ]
  },
  {
   "cell_type": "code",
   "execution_count": 7,
   "id": "8d04b787",
   "metadata": {},
   "outputs": [
    {
     "data": {
      "text/plain": [
       "'e:\\\\Python Course\\\\Codes'"
      ]
     },
     "execution_count": 7,
     "metadata": {},
     "output_type": "execute_result"
    }
   ],
   "source": [
    "import os\n",
    "os.getcwd()"
   ]
  },
  {
   "cell_type": "code",
   "execution_count": 8,
   "id": "f7f9bb32",
   "metadata": {},
   "outputs": [
    {
     "data": {
      "text/plain": [
       "['.ipynb_checkpoints',\n",
       " 'Exception Handling and File Handling.ipynb',\n",
       " 'Mongo and SQL (CRUD Operations).ipynb',\n",
       " 'OOPS- Object Oriented Programming .ipynb',\n",
       " 'Python Chapter 1.ipynb',\n",
       " 'Python Chapter 2 - Loops.ipynb',\n",
       " 'Python Chapter 3 - Functions.ipynb',\n",
       " 'Python Chapter 4 - List.ipynb',\n",
       " 'Python Chapter 5 - Tuple.ipynb',\n",
       " 'Python Chapter 6 - Set.ipynb',\n",
       " 'Python Chapter 7 - Dictionary.ipynb',\n",
       " 'Python Chapter 8 - Decorators.ipynb',\n",
       " 'Python Chapter 9 - Regex.ipynb',\n",
       " 'Python Chapter12 - Web Scraping.ipynb',\n",
       " 'Python Project - API .ipynb']"
      ]
     },
     "execution_count": 8,
     "metadata": {},
     "output_type": "execute_result"
    }
   ],
   "source": [
    "os.listdir()"
   ]
  },
  {
   "cell_type": "code",
   "execution_count": 13,
   "id": "32a4ebb8",
   "metadata": {},
   "outputs": [
    {
     "name": "stdout",
     "output_type": "stream",
     "text": [
      "\n"
     ]
    }
   ],
   "source": [
    "file=open('try2.txt',\"a+\")\n",
    "data=file.read()\n",
    "file.write(\"Python class\")\n",
    "print(data)\n"
   ]
  },
  {
   "cell_type": "code",
   "execution_count": 14,
   "id": "bf15c270",
   "metadata": {},
   "outputs": [
    {
     "name": "stdout",
     "output_type": "stream",
     "text": [
      "\n"
     ]
    }
   ],
   "source": [
    "with open('try.txt',\"w+\") as file:\n",
    "    data=file.read()\n",
    "    file.write(\"Programming class\")\n",
    "    print(data)\n",
    "    "
   ]
  },
  {
   "cell_type": "code",
   "execution_count": null,
   "id": "22bf55e4",
   "metadata": {},
   "outputs": [],
   "source": []
  }
 ],
 "metadata": {
  "kernelspec": {
   "display_name": "Python 3 (ipykernel)",
   "language": "python",
   "name": "python3"
  },
  "language_info": {
   "codemirror_mode": {
    "name": "ipython",
    "version": 3
   },
   "file_extension": ".py",
   "mimetype": "text/x-python",
   "name": "python",
   "nbconvert_exporter": "python",
   "pygments_lexer": "ipython3",
   "version": "3.9.7"
  }
 },
 "nbformat": 4,
 "nbformat_minor": 5
}
