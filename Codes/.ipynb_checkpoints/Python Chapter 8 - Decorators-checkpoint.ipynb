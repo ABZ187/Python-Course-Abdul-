{
 "cells": [
  {
   "cell_type": "markdown",
   "id": "6b2c22cf",
   "metadata": {},
   "source": [
    "### What are decorators?"
   ]
  },
  {
   "cell_type": "code",
   "execution_count": 10,
   "id": "52f86e59",
   "metadata": {},
   "outputs": [],
   "source": [
    "def xyz():\n",
    "    print(\"Hello\")"
   ]
  },
  {
   "cell_type": "code",
   "execution_count": 13,
   "id": "fc4c66f2",
   "metadata": {},
   "outputs": [
    {
     "name": "stdout",
     "output_type": "stream",
     "text": [
      "Hello\n"
     ]
    }
   ],
   "source": [
    "xyz()"
   ]
  },
  {
   "cell_type": "code",
   "execution_count": 16,
   "id": "ad073177",
   "metadata": {},
   "outputs": [
    {
     "data": {
      "text/plain": [
       "2617350753728"
      ]
     },
     "execution_count": 16,
     "metadata": {},
     "output_type": "execute_result"
    }
   ],
   "source": [
    "id(xyz)"
   ]
  },
  {
   "cell_type": "markdown",
   "id": "78fe0dcb",
   "metadata": {},
   "source": [
    "##### Calling function with another name"
   ]
  },
  {
   "cell_type": "code",
   "execution_count": 23,
   "id": "7c0e1f20",
   "metadata": {},
   "outputs": [],
   "source": [
    "abc=xyz"
   ]
  },
  {
   "cell_type": "code",
   "execution_count": 29,
   "id": "f346ccef",
   "metadata": {},
   "outputs": [
    {
     "name": "stdout",
     "output_type": "stream",
     "text": [
      "Hello\n"
     ]
    }
   ],
   "source": [
    "abc()"
   ]
  },
  {
   "cell_type": "markdown",
   "id": "b53927af",
   "metadata": {},
   "source": [
    "##### Nested functions"
   ]
  },
  {
   "cell_type": "code",
   "execution_count": 55,
   "id": "a5246ab4",
   "metadata": {},
   "outputs": [],
   "source": [
    "def xyz(y):\n",
    "    print(\"Hello\")\n",
    "    def abc(x):\n",
    "        print(\"Bye \"*x)\n",
    "    abc(y)"
   ]
  },
  {
   "cell_type": "code",
   "execution_count": 56,
   "id": "41b41698",
   "metadata": {},
   "outputs": [
    {
     "name": "stdout",
     "output_type": "stream",
     "text": [
      "Hello\n",
      "Bye Bye Bye Bye Bye \n"
     ]
    }
   ],
   "source": [
    "xyz(5)"
   ]
  },
  {
   "cell_type": "markdown",
   "id": "22a6d837",
   "metadata": {},
   "source": [
    "#### Passing function as an argument"
   ]
  },
  {
   "cell_type": "code",
   "execution_count": 59,
   "id": "927e8369",
   "metadata": {},
   "outputs": [],
   "source": [
    "def calculateSum(x):\n",
    "    return sum(x)"
   ]
  },
  {
   "cell_type": "code",
   "execution_count": 60,
   "id": "ed95b3fd",
   "metadata": {},
   "outputs": [
    {
     "data": {
      "text/plain": [
       "9"
      ]
     },
     "execution_count": 60,
     "metadata": {},
     "output_type": "execute_result"
    }
   ],
   "source": [
    "calculateSum([2,3,4])"
   ]
  },
  {
   "cell_type": "code",
   "execution_count": 11,
   "id": "bb432920",
   "metadata": {},
   "outputs": [],
   "source": [
    "def calculate(f1,x):\n",
    "     a=f1()\n",
    "     print(a)"
   ]
  },
  {
   "cell_type": "code",
   "execution_count": 12,
   "id": "77a1ada2",
   "metadata": {},
   "outputs": [],
   "source": [
    "def greet():\n",
    "    return \"hello \""
   ]
  },
  {
   "cell_type": "code",
   "execution_count": 14,
   "id": "15ab25ae",
   "metadata": {},
   "outputs": [
    {
     "name": "stdout",
     "output_type": "stream",
     "text": [
      "hello \n"
     ]
    }
   ],
   "source": [
    "calculate(greet,5)"
   ]
  },
  {
   "cell_type": "markdown",
   "id": "2464d38e",
   "metadata": {},
   "source": [
    "#### Concepts used in the example below - Nesting of function , passing function as a parameter"
   ]
  },
  {
   "cell_type": "code",
   "execution_count": 55,
   "id": "c9ab8cdf",
   "metadata": {},
   "outputs": [],
   "source": [
    "def getResults(fun1):\n",
    "    def getMarks():\n",
    "        print(\"Getting Marks\")\n",
    "        marks=fun1()  # We are calling calculateScore(x,y)\n",
    "        #print(\"The marks are \",marks)\n",
    "        print(\"Marks Obtained\")\n",
    "    return getMarks()"
   ]
  },
  {
   "cell_type": "code",
   "execution_count": 54,
   "id": "617b44af",
   "metadata": {
    "scrolled": true
   },
   "outputs": [
    {
     "name": "stdout",
     "output_type": "stream",
     "text": [
      "Getting Marks\n"
     ]
    },
    {
     "ename": "TypeError",
     "evalue": "'NoneType' object is not callable",
     "output_type": "error",
     "traceback": [
      "\u001b[1;31m---------------------------------------------------------------------------\u001b[0m",
      "\u001b[1;31mTypeError\u001b[0m                                 Traceback (most recent call last)",
      "\u001b[1;32m~\\AppData\\Local\\Temp/ipykernel_17280/1890014489.py\u001b[0m in \u001b[0;36m<module>\u001b[1;34m\u001b[0m\n\u001b[1;32m----> 1\u001b[1;33m \u001b[0mgetResults\u001b[0m\u001b[1;33m(\u001b[0m\u001b[0mcalculateScore\u001b[0m\u001b[1;33m)\u001b[0m\u001b[1;33m\u001b[0m\u001b[1;33m\u001b[0m\u001b[0m\n\u001b[0m",
      "\u001b[1;32m~\\AppData\\Local\\Temp/ipykernel_17280/1566952359.py\u001b[0m in \u001b[0;36mgetResults\u001b[1;34m(fun1)\u001b[0m\n\u001b[0;32m      5\u001b[0m         \u001b[0mprint\u001b[0m\u001b[1;33m(\u001b[0m\u001b[1;34m\"The marks are \"\u001b[0m\u001b[1;33m,\u001b[0m\u001b[0mmarks\u001b[0m\u001b[1;33m)\u001b[0m\u001b[1;33m\u001b[0m\u001b[1;33m\u001b[0m\u001b[0m\n\u001b[0;32m      6\u001b[0m         \u001b[0mprint\u001b[0m\u001b[1;33m(\u001b[0m\u001b[1;34m\"Marks Obtained\"\u001b[0m\u001b[1;33m)\u001b[0m\u001b[1;33m\u001b[0m\u001b[1;33m\u001b[0m\u001b[0m\n\u001b[1;32m----> 7\u001b[1;33m     \u001b[1;32mreturn\u001b[0m \u001b[0mgetMarks\u001b[0m\u001b[1;33m(\u001b[0m\u001b[1;33m)\u001b[0m\u001b[1;33m\u001b[0m\u001b[1;33m\u001b[0m\u001b[0m\n\u001b[0m",
      "\u001b[1;32m~\\AppData\\Local\\Temp/ipykernel_17280/1566952359.py\u001b[0m in \u001b[0;36mgetMarks\u001b[1;34m()\u001b[0m\n\u001b[0;32m      2\u001b[0m     \u001b[1;32mdef\u001b[0m \u001b[0mgetMarks\u001b[0m\u001b[1;33m(\u001b[0m\u001b[1;33m)\u001b[0m\u001b[1;33m:\u001b[0m\u001b[1;33m\u001b[0m\u001b[1;33m\u001b[0m\u001b[0m\n\u001b[0;32m      3\u001b[0m         \u001b[0mprint\u001b[0m\u001b[1;33m(\u001b[0m\u001b[1;34m\"Getting Marks\"\u001b[0m\u001b[1;33m)\u001b[0m\u001b[1;33m\u001b[0m\u001b[1;33m\u001b[0m\u001b[0m\n\u001b[1;32m----> 4\u001b[1;33m         \u001b[0mmarks\u001b[0m\u001b[1;33m=\u001b[0m\u001b[0mfun1\u001b[0m\u001b[1;33m(\u001b[0m\u001b[1;33m)\u001b[0m  \u001b[1;31m# We are calling calculateScore(x,y)\u001b[0m\u001b[1;33m\u001b[0m\u001b[1;33m\u001b[0m\u001b[0m\n\u001b[0m\u001b[0;32m      5\u001b[0m         \u001b[0mprint\u001b[0m\u001b[1;33m(\u001b[0m\u001b[1;34m\"The marks are \"\u001b[0m\u001b[1;33m,\u001b[0m\u001b[0mmarks\u001b[0m\u001b[1;33m)\u001b[0m\u001b[1;33m\u001b[0m\u001b[1;33m\u001b[0m\u001b[0m\n\u001b[0;32m      6\u001b[0m         \u001b[0mprint\u001b[0m\u001b[1;33m(\u001b[0m\u001b[1;34m\"Marks Obtained\"\u001b[0m\u001b[1;33m)\u001b[0m\u001b[1;33m\u001b[0m\u001b[1;33m\u001b[0m\u001b[0m\n",
      "\u001b[1;31mTypeError\u001b[0m: 'NoneType' object is not callable"
     ]
    }
   ],
   "source": [
    "getResults(calculateScore,45,45)\n",
    "getResults(calculateScore,40,45)"
   ]
  },
  {
   "cell_type": "markdown",
   "id": "ec5db3b1",
   "metadata": {},
   "source": [
    "###  Decorator is a function that takes another function as an argument, adds some additional functionality, thereby enhancing it and then returns an enhanced function. All of this happens without altering the source code of the original function.\n"
   ]
  },
  {
   "cell_type": "code",
   "execution_count": 1,
   "id": "c1ab1f49",
   "metadata": {},
   "outputs": [],
   "source": [
    "def getResults(fun1):\n",
    "    def getMarks():\n",
    "        print(\"Getting Marks\")\n",
    "        marks=fun1()\n",
    "        print(\"Marks Obtained\")\n",
    "    return getMarks()"
   ]
  },
  {
   "cell_type": "code",
   "execution_count": 2,
   "id": "6f3c1cbd",
   "metadata": {},
   "outputs": [
    {
     "name": "stdout",
     "output_type": "stream",
     "text": [
      "Getting Marks\n",
      "5\n",
      "Marks Obtained\n"
     ]
    }
   ],
   "source": [
    "@getResults  #Same as calling getResults(calculateScore)\n",
    "def calculateScore(x=2,y=3):\n",
    "    print(x+y)\n"
   ]
  },
  {
   "cell_type": "code",
   "execution_count": null,
   "id": "b25364ae",
   "metadata": {},
   "outputs": [],
   "source": []
  }
 ],
 "metadata": {
  "kernelspec": {
   "display_name": "Python 3 (ipykernel)",
   "language": "python",
   "name": "python3"
  },
  "language_info": {
   "codemirror_mode": {
    "name": "ipython",
    "version": 3
   },
   "file_extension": ".py",
   "mimetype": "text/x-python",
   "name": "python",
   "nbconvert_exporter": "python",
   "pygments_lexer": "ipython3",
   "version": "3.9.12"
  }
 },
 "nbformat": 4,
 "nbformat_minor": 5
}
