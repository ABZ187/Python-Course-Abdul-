{
 "cells": [
  {
   "cell_type": "markdown",
   "id": "7cab5cb0",
   "metadata": {},
   "source": [
    "## List ... Identified with help of [ ]\n",
    "- New Datatype Learnt : list"
   ]
  },
  {
   "cell_type": "code",
   "execution_count": 44,
   "id": "412dd7c2",
   "metadata": {},
   "outputs": [],
   "source": [
    "a=[2,10,\"banana\",\"mango\"]\n",
    "\n",
    "a=[\"apple\",\"ball\",2,\"Apple\",a]"
   ]
  },
  {
   "cell_type": "markdown",
   "id": "c77a5b6a",
   "metadata": {},
   "source": [
    "### Elements Accessing"
   ]
  },
  {
   "cell_type": "code",
   "execution_count": 45,
   "id": "cf3ed60d",
   "metadata": {
    "scrolled": true
   },
   "outputs": [
    {
     "name": "stdout",
     "output_type": "stream",
     "text": [
      "['apple', 'ball', 2, 'Apple', [2, 10, 'banana', 'mango']]\n"
     ]
    }
   ],
   "source": [
    "print(a)"
   ]
  },
  {
   "cell_type": "code",
   "execution_count": 30,
   "id": "10a6be04",
   "metadata": {},
   "outputs": [
    {
     "data": {
      "text/plain": [
       "2"
      ]
     },
     "execution_count": 30,
     "metadata": {},
     "output_type": "execute_result"
    }
   ],
   "source": [
    "a[0] # The number 0 is called the index , so we are finding element at index 0"
   ]
  },
  {
   "cell_type": "code",
   "execution_count": 27,
   "id": "884df3ab",
   "metadata": {},
   "outputs": [
    {
     "data": {
      "text/plain": [
       "'banana'"
      ]
     },
     "execution_count": 27,
     "metadata": {},
     "output_type": "execute_result"
    }
   ],
   "source": [
    "a[2]"
   ]
  },
  {
   "cell_type": "code",
   "execution_count": 29,
   "id": "af74faca",
   "metadata": {},
   "outputs": [
    {
     "data": {
      "text/plain": [
       "'mango'"
      ]
     },
     "execution_count": 29,
     "metadata": {},
     "output_type": "execute_result"
    }
   ],
   "source": [
    "a[3]"
   ]
  },
  {
   "cell_type": "code",
   "execution_count": null,
   "id": "e1edf275",
   "metadata": {},
   "outputs": [],
   "source": [
    "a[4] # This will generate an error as there is no element at that position"
   ]
  },
  {
   "cell_type": "code",
   "execution_count": 32,
   "id": "d55298e9",
   "metadata": {},
   "outputs": [
    {
     "name": "stdout",
     "output_type": "stream",
     "text": [
      "['apple', 'ball', 2, 'Apple', [2, 10, 'banana', 'mango']]\n"
     ]
    }
   ],
   "source": [
    "print(b)"
   ]
  },
  {
   "cell_type": "code",
   "execution_count": null,
   "id": "07a78bbe",
   "metadata": {},
   "outputs": [],
   "source": []
  },
  {
   "cell_type": "code",
   "execution_count": 116,
   "id": "88e28467",
   "metadata": {},
   "outputs": [],
   "source": [
    "c=[\"apple\",\"ball\",[\"bat\",\"cat\",[\"dog\",[\"baba\",\"banana\"]]]]"
   ]
  },
  {
   "cell_type": "code",
   "execution_count": 117,
   "id": "8fbe60bc",
   "metadata": {},
   "outputs": [
    {
     "data": {
      "text/plain": [
       "(['bat', 'cat', ['dog', ['baba', 'banana']]], [2], [1], [1])"
      ]
     },
     "execution_count": 117,
     "metadata": {},
     "output_type": "execute_result"
    }
   ],
   "source": [
    "# To come back once done with tuple\n",
    "c[2],[2],[1],[1]"
   ]
  },
  {
   "cell_type": "markdown",
   "id": "8eb2598f",
   "metadata": {},
   "source": [
    "### Slicing \n",
    " - [first_element_index:last_element_index+1]"
   ]
  },
  {
   "cell_type": "code",
   "execution_count": 5,
   "id": "81276f35",
   "metadata": {},
   "outputs": [],
   "source": [
    "a=[2,10,\"banana\",\"mango\"]"
   ]
  },
  {
   "cell_type": "code",
   "execution_count": 6,
   "id": "6ecb6685",
   "metadata": {},
   "outputs": [
    {
     "data": {
      "text/plain": [
       "'mango'"
      ]
     },
     "execution_count": 6,
     "metadata": {},
     "output_type": "execute_result"
    }
   ],
   "source": [
    "a[-1]"
   ]
  },
  {
   "cell_type": "code",
   "execution_count": 111,
   "id": "b5253c3b",
   "metadata": {},
   "outputs": [
    {
     "data": {
      "text/plain": [
       "[2, 10, 'banana', 'mango']"
      ]
     },
     "execution_count": 111,
     "metadata": {},
     "output_type": "execute_result"
    }
   ],
   "source": [
    "a[0:4]\n",
    "# Start\n",
    "# End\n",
    "# Error check"
   ]
  },
  {
   "cell_type": "code",
   "execution_count": 115,
   "id": "15b3ad3a",
   "metadata": {},
   "outputs": [
    {
     "data": {
      "text/plain": [
       "[10, 'mango']"
      ]
     },
     "execution_count": 115,
     "metadata": {},
     "output_type": "execute_result"
    }
   ],
   "source": [
    "a[1:4:2] #Third parameter step"
   ]
  },
  {
   "cell_type": "code",
   "execution_count": 4,
   "id": "24742740",
   "metadata": {},
   "outputs": [],
   "source": [
    "a=[\"apple\",\"ball\",2,\"Apple\",a]"
   ]
  },
  {
   "cell_type": "code",
   "execution_count": 97,
   "id": "37aa9ce4",
   "metadata": {},
   "outputs": [
    {
     "data": {
      "text/plain": [
       "['apple', 'ball', 2, 'Apple', ['apple', 'ball', 2, 'Apple']]"
      ]
     },
     "execution_count": 97,
     "metadata": {},
     "output_type": "execute_result"
    }
   ],
   "source": [
    "a"
   ]
  },
  {
   "cell_type": "code",
   "execution_count": 99,
   "id": "a1a1b09b",
   "metadata": {},
   "outputs": [
    {
     "data": {
      "text/plain": [
       "['ball']"
      ]
     },
     "execution_count": 99,
     "metadata": {},
     "output_type": "execute_result"
    }
   ],
   "source": [
    "a[4][1:3]"
   ]
  },
  {
   "cell_type": "markdown",
   "id": "26525efa",
   "metadata": {},
   "source": [
    "#### We can skip certain values"
   ]
  },
  {
   "cell_type": "code",
   "execution_count": 1,
   "id": "8bb26257",
   "metadata": {},
   "outputs": [],
   "source": [
    "a=[\"apple\",\"ball\",2,\"Apple\"]"
   ]
  },
  {
   "cell_type": "code",
   "execution_count": 92,
   "id": "5fd0f847",
   "metadata": {},
   "outputs": [
    {
     "data": {
      "text/plain": [
       "['ball', 2, 'Apple']"
      ]
     },
     "execution_count": 92,
     "metadata": {},
     "output_type": "execute_result"
    }
   ],
   "source": [
    "a[1:] #All elements towards the end from a particular item"
   ]
  },
  {
   "cell_type": "code",
   "execution_count": 94,
   "id": "326be5fe",
   "metadata": {},
   "outputs": [
    {
     "data": {
      "text/plain": [
       "['apple', 'ball', 2]"
      ]
     },
     "execution_count": 94,
     "metadata": {},
     "output_type": "execute_result"
    }
   ],
   "source": [
    "a[:3] #All elements from start upto a particular item"
   ]
  },
  {
   "cell_type": "markdown",
   "id": "1dfe5cc2",
   "metadata": {},
   "source": [
    "### Length Function"
   ]
  },
  {
   "cell_type": "code",
   "execution_count": 13,
   "id": "30504871",
   "metadata": {},
   "outputs": [],
   "source": [
    "a=[1,2,3,4]"
   ]
  },
  {
   "cell_type": "code",
   "execution_count": 8,
   "id": "148b9fd8",
   "metadata": {},
   "outputs": [
    {
     "data": {
      "text/plain": [
       "4"
      ]
     },
     "execution_count": 8,
     "metadata": {},
     "output_type": "execute_result"
    }
   ],
   "source": [
    "len(a)"
   ]
  },
  {
   "cell_type": "code",
   "execution_count": 14,
   "id": "ca858533",
   "metadata": {},
   "outputs": [],
   "source": [
    "a=[1,2,3,a]"
   ]
  },
  {
   "cell_type": "code",
   "execution_count": 17,
   "id": "022f5bd3",
   "metadata": {},
   "outputs": [
    {
     "data": {
      "text/plain": [
       "[1, 2, 3, [1, 2, 3, 4]]"
      ]
     },
     "execution_count": 17,
     "metadata": {},
     "output_type": "execute_result"
    }
   ],
   "source": [
    "a"
   ]
  },
  {
   "cell_type": "code",
   "execution_count": 18,
   "id": "53676200",
   "metadata": {},
   "outputs": [
    {
     "data": {
      "text/plain": [
       "4"
      ]
     },
     "execution_count": 18,
     "metadata": {},
     "output_type": "execute_result"
    }
   ],
   "source": [
    "len(a)"
   ]
  },
  {
   "cell_type": "code",
   "execution_count": 20,
   "id": "744bcb71",
   "metadata": {},
   "outputs": [
    {
     "data": {
      "text/plain": [
       "[1, 2, 3, 4]"
      ]
     },
     "execution_count": 20,
     "metadata": {},
     "output_type": "execute_result"
    }
   ],
   "source": [
    "a[3]"
   ]
  },
  {
   "cell_type": "code",
   "execution_count": 19,
   "id": "5c460c6e",
   "metadata": {},
   "outputs": [
    {
     "data": {
      "text/plain": [
       "4"
      ]
     },
     "execution_count": 19,
     "metadata": {},
     "output_type": "execute_result"
    }
   ],
   "source": [
    "len(a[3])"
   ]
  },
  {
   "cell_type": "markdown",
   "id": "dd1ef0cb",
   "metadata": {},
   "source": [
    "### in and not in operator - can be used with any sequence"
   ]
  },
  {
   "cell_type": "code",
   "execution_count": 21,
   "id": "8beba7d4",
   "metadata": {},
   "outputs": [],
   "source": [
    "a=[1,2,3,4]"
   ]
  },
  {
   "cell_type": "code",
   "execution_count": 30,
   "id": "ce5153fa",
   "metadata": {},
   "outputs": [
    {
     "name": "stdout",
     "output_type": "stream",
     "text": [
      "Absent\n"
     ]
    }
   ],
   "source": [
    "if (13 in a):\n",
    "    print(\"Present\")\n",
    "else:\n",
    "    print(\"Absent\")"
   ]
  },
  {
   "cell_type": "markdown",
   "id": "35d2866c",
   "metadata": {},
   "source": [
    "### Similarity in range function and list"
   ]
  },
  {
   "cell_type": "code",
   "execution_count": 35,
   "id": "8466d72e",
   "metadata": {},
   "outputs": [
    {
     "name": "stdout",
     "output_type": "stream",
     "text": [
      "1\n",
      "2\n",
      "3\n",
      "4\n"
     ]
    }
   ],
   "source": [
    "for i in range(1,5):\n",
    "    print(i)\n",
    "    "
   ]
  },
  {
   "cell_type": "code",
   "execution_count": 36,
   "id": "21756c87",
   "metadata": {},
   "outputs": [
    {
     "name": "stdout",
     "output_type": "stream",
     "text": [
      "1\n",
      "2\n",
      "3\n",
      "4\n"
     ]
    }
   ],
   "source": [
    "for i in [1,2,3,4]:\n",
    "    print(i)"
   ]
  },
  {
   "cell_type": "code",
   "execution_count": 37,
   "id": "862c22e5",
   "metadata": {},
   "outputs": [
    {
     "name": "stdout",
     "output_type": "stream",
     "text": [
      "Absent\n"
     ]
    }
   ],
   "source": [
    "a=[1,2,3,4]\n",
    "if(13 not in a):\n",
    "    print(\"Absent\")\n",
    "else:\n",
    "    print(\"Present\")"
   ]
  },
  {
   "cell_type": "markdown",
   "id": "6a679452",
   "metadata": {},
   "source": [
    "##### Sequence : (Atleast 2 elements)\n",
    "- \"Python\"  - Atleast 2 characters\n",
    "- [1,2,3,4] - Atleast 2 items"
   ]
  },
  {
   "cell_type": "code",
   "execution_count": 40,
   "id": "db27eba1",
   "metadata": {},
   "outputs": [
    {
     "name": "stdout",
     "output_type": "stream",
     "text": [
      "Absent\n"
     ]
    }
   ],
   "source": [
    "#Check whether alphabet \"k\" is present in Python string\n",
    "a=\"python\"\n",
    "if(\"k\" in a):\n",
    "    print(\"Present\")\n",
    "else:\n",
    "    print(\"Absent\")"
   ]
  },
  {
   "cell_type": "markdown",
   "id": "eccd1e11",
   "metadata": {},
   "source": [
    "##### Append method - Adds element exactly at the end"
   ]
  },
  {
   "cell_type": "code",
   "execution_count": 44,
   "id": "c5ca055c",
   "metadata": {},
   "outputs": [
    {
     "name": "stdout",
     "output_type": "stream",
     "text": [
      "[1, 2, 3, 4, 5]\n"
     ]
    }
   ],
   "source": [
    "a=[1,2,3,4]\n",
    "a.append(5)\n",
    "print(a)"
   ]
  },
  {
   "cell_type": "markdown",
   "id": "988b1990",
   "metadata": {},
   "source": [
    "##### Insert method - Adds element at the given position \n",
    "- Syntax : list.insert(index,value)"
   ]
  },
  {
   "cell_type": "code",
   "execution_count": 45,
   "id": "685d53cf",
   "metadata": {},
   "outputs": [
    {
     "name": "stdout",
     "output_type": "stream",
     "text": [
      "[1, 2, 5, 3, 4]\n"
     ]
    }
   ],
   "source": [
    "a=[1,2,3,4]  # 1,2,5,3,4\n",
    "a.insert(2,5)\n",
    "print(a)"
   ]
  },
  {
   "cell_type": "markdown",
   "id": "2fc242ba",
   "metadata": {},
   "source": [
    "##### Delete statement - Deletes item at the given index\n",
    "- Syntax : del list[index]"
   ]
  },
  {
   "cell_type": "code",
   "execution_count": 49,
   "id": "fb0baff3",
   "metadata": {},
   "outputs": [
    {
     "data": {
      "text/plain": [
       "['apple', 'mango', 'banana']"
      ]
     },
     "execution_count": 49,
     "metadata": {},
     "output_type": "execute_result"
    }
   ],
   "source": [
    "a=[\"apple\",\"mango\",\"banana\",\"papaya\"]  \n",
    "del a[3]  #deletes the element at index 3\n",
    "a"
   ]
  },
  {
   "cell_type": "markdown",
   "id": "c085a11b",
   "metadata": {},
   "source": [
    "##### Remove method - Deletes item specified \n",
    "- Syntax : list.remove(item)"
   ]
  },
  {
   "cell_type": "code",
   "execution_count": 50,
   "id": "3be5283f",
   "metadata": {},
   "outputs": [
    {
     "data": {
      "text/plain": [
       "['apple', 'banana', 'papaya']"
      ]
     },
     "execution_count": 50,
     "metadata": {},
     "output_type": "execute_result"
    }
   ],
   "source": [
    "a=[\"apple\",\"mango\",\"banana\",\"papaya\"]\n",
    "a.remove(\"mango\")\n",
    "a"
   ]
  },
  {
   "cell_type": "code",
   "execution_count": 51,
   "id": "b796032b",
   "metadata": {},
   "outputs": [
    {
     "data": {
      "text/plain": [
       "['apple', 'banana', 'papaya', 'mango']"
      ]
     },
     "execution_count": 51,
     "metadata": {},
     "output_type": "execute_result"
    }
   ],
   "source": [
    "a=[\"apple\",\"mango\",\"banana\",\"papaya\",\"mango\"]\n",
    "a.remove(\"mango\")\n",
    "a"
   ]
  },
  {
   "cell_type": "markdown",
   "id": "51a6c543",
   "metadata": {},
   "source": [
    "### Changing values of a list"
   ]
  },
  {
   "cell_type": "code",
   "execution_count": 56,
   "id": "d0600a4c",
   "metadata": {},
   "outputs": [
    {
     "name": "stdout",
     "output_type": "stream",
     "text": [
      "['banana', 'mango', 'papaya']\n"
     ]
    }
   ],
   "source": [
    "a=[\"apple\",\"mango\",\"orange\"]\n",
    "a[0]=\"banana\"\n",
    "a[2]=\"papaya\"\n",
    "print(a)"
   ]
  }
 ],
 "metadata": {
  "kernelspec": {
   "display_name": "Python 3 (ipykernel)",
   "language": "python",
   "name": "python3"
  },
  "language_info": {
   "codemirror_mode": {
    "name": "ipython",
    "version": 3
   },
   "file_extension": ".py",
   "mimetype": "text/x-python",
   "name": "python",
   "nbconvert_exporter": "python",
   "pygments_lexer": "ipython3",
   "version": "3.9.12"
  }
 },
 "nbformat": 4,
 "nbformat_minor": 5
}
