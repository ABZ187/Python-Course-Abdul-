{
 "cells": [
  {
   "cell_type": "markdown",
   "id": "ff49a878",
   "metadata": {},
   "source": [
    "## Operations"
   ]
  },
  {
   "cell_type": "markdown",
   "id": "3bf7a9da",
   "metadata": {},
   "source": [
    "# Operations"
   ]
  },
  {
   "cell_type": "code",
   "execution_count": 15,
   "id": "523d5d96",
   "metadata": {},
   "outputs": [
    {
     "data": {
      "text/plain": [
       "8"
      ]
     },
     "execution_count": 15,
     "metadata": {},
     "output_type": "execute_result"
    }
   ],
   "source": [
    "5+3"
   ]
  },
  {
   "cell_type": "code",
   "execution_count": 16,
   "id": "2b39d664",
   "metadata": {},
   "outputs": [
    {
     "data": {
      "text/plain": [
       "2"
      ]
     },
     "execution_count": 16,
     "metadata": {},
     "output_type": "execute_result"
    }
   ],
   "source": [
    "5-3"
   ]
  },
  {
   "cell_type": "code",
   "execution_count": 17,
   "id": "79f77011",
   "metadata": {},
   "outputs": [
    {
     "data": {
      "text/plain": [
       "1.6666666666666667"
      ]
     },
     "execution_count": 17,
     "metadata": {},
     "output_type": "execute_result"
    }
   ],
   "source": [
    "5/3"
   ]
  },
  {
   "cell_type": "code",
   "execution_count": 18,
   "id": "93025940",
   "metadata": {},
   "outputs": [
    {
     "data": {
      "text/plain": [
       "1"
      ]
     },
     "execution_count": 18,
     "metadata": {},
     "output_type": "execute_result"
    }
   ],
   "source": [
    "5//3"
   ]
  },
  {
   "cell_type": "code",
   "execution_count": 19,
   "id": "e38ab38a",
   "metadata": {},
   "outputs": [
    {
     "data": {
      "text/plain": [
       "2"
      ]
     },
     "execution_count": 19,
     "metadata": {},
     "output_type": "execute_result"
    }
   ],
   "source": [
    "5%3"
   ]
  },
  {
   "cell_type": "code",
   "execution_count": 20,
   "id": "c477139e",
   "metadata": {},
   "outputs": [
    {
     "data": {
      "text/plain": [
       "125"
      ]
     },
     "execution_count": 20,
     "metadata": {},
     "output_type": "execute_result"
    }
   ],
   "source": [
    "5**3"
   ]
  },
  {
   "cell_type": "markdown",
   "id": "cf3b8766",
   "metadata": {},
   "source": [
    "## Precedence"
   ]
  },
  {
   "cell_type": "code",
   "execution_count": 24,
   "id": "b55bf2ef",
   "metadata": {},
   "outputs": [
    {
     "data": {
      "text/plain": [
       "7"
      ]
     },
     "execution_count": 24,
     "metadata": {},
     "output_type": "execute_result"
    }
   ],
   "source": [
    "     1+2*3\n",
    "#Left ----> Right"
   ]
  },
  {
   "cell_type": "code",
   "execution_count": 26,
   "id": "c5201f86",
   "metadata": {},
   "outputs": [
    {
     "data": {
      "text/plain": [
       "28"
      ]
     },
     "execution_count": 26,
     "metadata": {},
     "output_type": "execute_result"
    }
   ],
   "source": [
    "1+3**2*3\n",
    "#1+(3**2)*3\n",
    "#1+9*3\n",
    "#Left ---> Right  .. 1+(9*3)..1+27\n"
   ]
  },
  {
   "cell_type": "markdown",
   "id": "fcfbd28d",
   "metadata": {},
   "source": [
    "## Data types \n",
    "- Use type( ) to identify the datatype"
   ]
  },
  {
   "cell_type": "code",
   "execution_count": null,
   "id": "3ff23dd6",
   "metadata": {},
   "outputs": [],
   "source": [
    "## Dress -- Categorised into\n",
    "#Party Dress\n",
    "#College Dress\n",
    "#Office Dress\n",
    "#Sports Dress"
   ]
  },
  {
   "cell_type": "code",
   "execution_count": null,
   "id": "d7f96aeb",
   "metadata": {},
   "outputs": [],
   "source": [
    "## Data -- Categorised into\n",
    "#Integer\n",
    "#Float\n",
    "#String -- English Sentence or alphabet  (with help of \" \" or ' ')"
   ]
  },
  {
   "cell_type": "code",
   "execution_count": 42,
   "id": "6aca989d",
   "metadata": {},
   "outputs": [
    {
     "data": {
      "text/plain": [
       "int"
      ]
     },
     "execution_count": 42,
     "metadata": {},
     "output_type": "execute_result"
    }
   ],
   "source": [
    "type(12)"
   ]
  },
  {
   "cell_type": "code",
   "execution_count": 43,
   "id": "d70f9833",
   "metadata": {},
   "outputs": [
    {
     "data": {
      "text/plain": [
       "float"
      ]
     },
     "execution_count": 43,
     "metadata": {},
     "output_type": "execute_result"
    }
   ],
   "source": [
    "type(12.0)"
   ]
  },
  {
   "cell_type": "code",
   "execution_count": 44,
   "id": "84a48f05",
   "metadata": {},
   "outputs": [
    {
     "data": {
      "text/plain": [
       "str"
      ]
     },
     "execution_count": 44,
     "metadata": {},
     "output_type": "execute_result"
    }
   ],
   "source": [
    "type(\"Python\")"
   ]
  },
  {
   "cell_type": "code",
   "execution_count": 46,
   "id": "7bcbdce8",
   "metadata": {},
   "outputs": [
    {
     "data": {
      "text/plain": [
       "float"
      ]
     },
     "execution_count": 46,
     "metadata": {},
     "output_type": "execute_result"
    }
   ],
   "source": [
    "type(12.0)"
   ]
  },
  {
   "cell_type": "code",
   "execution_count": 47,
   "id": "a84815c7",
   "metadata": {
    "scrolled": true
   },
   "outputs": [
    {
     "data": {
      "text/plain": [
       "str"
      ]
     },
     "execution_count": 47,
     "metadata": {},
     "output_type": "execute_result"
    }
   ],
   "source": [
    "type(\"Python\")"
   ]
  },
  {
   "cell_type": "markdown",
   "id": "4656f966",
   "metadata": {},
   "source": [
    "### Friend Error"
   ]
  },
  {
   "cell_type": "code",
   "execution_count": 15,
   "id": "b95eaa5d",
   "metadata": {},
   "outputs": [
    {
     "ename": "SyntaxError",
     "evalue": "EOL while scanning string literal (Temp/ipykernel_5364/3466940256.py, line 1)",
     "output_type": "error",
     "traceback": [
      "\u001b[1;36m  File \u001b[1;32m\"C:\\Users\\herol\\AppData\\Local\\Temp/ipykernel_5364/3466940256.py\"\u001b[1;36m, line \u001b[1;32m1\u001b[0m\n\u001b[1;33m    'Python is\u001b[0m\n\u001b[1;37m              ^\u001b[0m\n\u001b[1;31mSyntaxError\u001b[0m\u001b[1;31m:\u001b[0m EOL while scanning string literal\n"
     ]
    }
   ],
   "source": [
    "'Python is"
   ]
  },
  {
   "cell_type": "code",
   "execution_count": 20,
   "id": "e1667d6c",
   "metadata": {},
   "outputs": [
    {
     "ename": "SyntaxError",
     "evalue": "EOL while scanning string literal (Temp/ipykernel_5364/2681241033.py, line 1)",
     "output_type": "error",
     "traceback": [
      "\u001b[1;36m  File \u001b[1;32m\"C:\\Users\\herol\\AppData\\Local\\Temp/ipykernel_5364/2681241033.py\"\u001b[1;36m, line \u001b[1;32m1\u001b[0m\n\u001b[1;33m    \"Python is'\u001b[0m\n\u001b[1;37m               ^\u001b[0m\n\u001b[1;31mSyntaxError\u001b[0m\u001b[1;31m:\u001b[0m EOL while scanning string literal\n"
     ]
    }
   ],
   "source": [
    "#Check the type of quotes\n",
    "\"Python is'"
   ]
  },
  {
   "cell_type": "markdown",
   "id": "fdd79383",
   "metadata": {},
   "source": [
    "## String Concatenation"
   ]
  },
  {
   "cell_type": "code",
   "execution_count": 17,
   "id": "3d4601fe",
   "metadata": {},
   "outputs": [
    {
     "data": {
      "text/plain": [
       "'PythonSnake'"
      ]
     },
     "execution_count": 17,
     "metadata": {},
     "output_type": "execute_result"
    }
   ],
   "source": [
    "'Python'+\"Snake\""
   ]
  },
  {
   "cell_type": "code",
   "execution_count": 16,
   "id": "17de2b02",
   "metadata": {},
   "outputs": [
    {
     "data": {
      "text/plain": [
       "'Python Snake'"
      ]
     },
     "execution_count": 16,
     "metadata": {},
     "output_type": "execute_result"
    }
   ],
   "source": [
    "\"Python\"+\" \"+\"Snake\""
   ]
  },
  {
   "cell_type": "code",
   "execution_count": 14,
   "id": "df199232",
   "metadata": {},
   "outputs": [
    {
     "data": {
      "text/plain": [
       "'Python Snake'"
      ]
     },
     "execution_count": 14,
     "metadata": {},
     "output_type": "execute_result"
    }
   ],
   "source": [
    "\"Python\"+\" Snake\""
   ]
  },
  {
   "cell_type": "markdown",
   "id": "c425b9a3",
   "metadata": {},
   "source": [
    "## String Replication"
   ]
  },
  {
   "cell_type": "code",
   "execution_count": 27,
   "id": "feccee15",
   "metadata": {},
   "outputs": [
    {
     "data": {
      "text/plain": [
       "'PythonPythonPythonPythonPythonPythonPythonPython'"
      ]
     },
     "execution_count": 27,
     "metadata": {},
     "output_type": "execute_result"
    }
   ],
   "source": [
    "\"Python\"*8"
   ]
  },
  {
   "cell_type": "markdown",
   "id": "cb4de497",
   "metadata": {},
   "source": [
    "## Variables"
   ]
  },
  {
   "cell_type": "code",
   "execution_count": 66,
   "id": "d60af2ec",
   "metadata": {},
   "outputs": [],
   "source": [
    "x=6"
   ]
  },
  {
   "cell_type": "code",
   "execution_count": 29,
   "id": "a0386944",
   "metadata": {},
   "outputs": [
    {
     "name": "stdout",
     "output_type": "stream",
     "text": [
      "6\n"
     ]
    }
   ],
   "source": [
    "print(x)"
   ]
  },
  {
   "cell_type": "code",
   "execution_count": 33,
   "id": "1266cfb9",
   "metadata": {},
   "outputs": [
    {
     "name": "stdout",
     "output_type": "stream",
     "text": [
      "7\n"
     ]
    }
   ],
   "source": [
    "x=6.3\n",
    "x=7\n",
    "print(x)"
   ]
  },
  {
   "cell_type": "code",
   "execution_count": 38,
   "id": "bb75966b",
   "metadata": {},
   "outputs": [],
   "source": [
    "# WIll not work\n",
    "#-- x y=6\n",
    "#-- 1x=6"
   ]
  },
  {
   "cell_type": "markdown",
   "id": "84917bf3",
   "metadata": {},
   "source": [
    "## Comparison between = and =="
   ]
  },
  {
   "cell_type": "code",
   "execution_count": 59,
   "id": "1e346003",
   "metadata": {},
   "outputs": [],
   "source": [
    "x=4 #Assigning the values\n"
   ]
  },
  {
   "cell_type": "code",
   "execution_count": 60,
   "id": "6b21f994",
   "metadata": {},
   "outputs": [
    {
     "data": {
      "text/plain": [
       "False"
      ]
     },
     "execution_count": 60,
     "metadata": {},
     "output_type": "execute_result"
    }
   ],
   "source": [
    "x==3 # Comparing the values"
   ]
  },
  {
   "cell_type": "code",
   "execution_count": 61,
   "id": "33ba6f0e",
   "metadata": {},
   "outputs": [
    {
     "data": {
      "text/plain": [
       "True"
      ]
     },
     "execution_count": 61,
     "metadata": {},
     "output_type": "execute_result"
    }
   ],
   "source": [
    "x==x \n",
    "# True"
   ]
  },
  {
   "cell_type": "markdown",
   "id": "269dbb42",
   "metadata": {},
   "source": [
    "## print()"
   ]
  },
  {
   "cell_type": "markdown",
   "id": "8787c69b",
   "metadata": {},
   "source": [
    "#### Print something as it is (Normal String)"
   ]
  },
  {
   "cell_type": "code",
   "execution_count": 3,
   "id": "2dbb8357",
   "metadata": {},
   "outputs": [
    {
     "name": "stdout",
     "output_type": "stream",
     "text": [
      "Today is Saturday\n"
     ]
    }
   ],
   "source": [
    "print(\"Today is Saturday\")"
   ]
  },
  {
   "cell_type": "markdown",
   "id": "8209e157",
   "metadata": {},
   "source": [
    "#### Print variable name"
   ]
  },
  {
   "cell_type": "code",
   "execution_count": 67,
   "id": "07a81649",
   "metadata": {},
   "outputs": [
    {
     "name": "stdout",
     "output_type": "stream",
     "text": [
      "6\n"
     ]
    }
   ],
   "source": [
    "print(x)"
   ]
  },
  {
   "cell_type": "markdown",
   "id": "461d46a0",
   "metadata": {},
   "source": [
    "#### Different ways to print variable as well as normal string"
   ]
  },
  {
   "cell_type": "markdown",
   "id": "8ae9ec50",
   "metadata": {},
   "source": [
    "##### Technique 1 - Using comma separation"
   ]
  },
  {
   "cell_type": "code",
   "execution_count": 70,
   "id": "4b8eb026",
   "metadata": {},
   "outputs": [
    {
     "name": "stdout",
     "output_type": "stream",
     "text": [
      "The value is 6\n"
     ]
    }
   ],
   "source": [
    "print('The value is',x)"
   ]
  },
  {
   "cell_type": "markdown",
   "id": "fc812412",
   "metadata": {},
   "source": [
    "#### Technique 2 - Using f-strings .. f for format"
   ]
  },
  {
   "cell_type": "code",
   "execution_count": 5,
   "id": "b62b40cd",
   "metadata": {},
   "outputs": [
    {
     "name": "stdout",
     "output_type": "stream",
     "text": [
      "The value is 6\n"
     ]
    }
   ],
   "source": [
    "x=6\n",
    "print(f\"The value is {x}\")"
   ]
  },
  {
   "cell_type": "code",
   "execution_count": 12,
   "id": "94ff7f31",
   "metadata": {
    "scrolled": true
   },
   "outputs": [
    {
     "name": "stdout",
     "output_type": "stream",
     "text": [
      "The age is age\n",
      "The age is 12\n",
      "The age is 12\n"
     ]
    }
   ],
   "source": [
    "age=12\n",
    "print(\"The age is age\") # The age is 12\n",
    "print(\"The age is\",age) # Technique 1\n",
    "print(f\"The age is {age}\") # Technique 2"
   ]
  },
  {
   "cell_type": "markdown",
   "id": "78f7ce56",
   "metadata": {},
   "source": [
    "## Input"
   ]
  },
  {
   "cell_type": "raw",
   "id": "746bfd73",
   "metadata": {},
   "source": [
    "age=\"12\"\n",
    "xyz=int(age)-- Python informed for datatype change "
   ]
  },
  {
   "cell_type": "code",
   "execution_count": 32,
   "id": "87416f72",
   "metadata": {},
   "outputs": [
    {
     "name": "stdout",
     "output_type": "stream",
     "text": [
      "Enter your age 12\n",
      "The age is 12\n"
     ]
    }
   ],
   "source": [
    "age=input(\"Enter your age \")\n",
    "#Initially age was in string format.. you changed its datatype to integer\n",
    "#Initially age=\"12\"\n",
    "age=int(age)  #Typecasting\n",
    "#Now age=12\n",
    "print(f\"The age is {age}\")"
   ]
  },
  {
   "cell_type": "markdown",
   "id": "80303caf",
   "metadata": {},
   "source": [
    "## Flow Control Statements"
   ]
  },
  {
   "cell_type": "markdown",
   "id": "51942ffd",
   "metadata": {},
   "source": [
    "- If"
   ]
  },
  {
   "cell_type": "code",
   "execution_count": null,
   "id": "d315674c",
   "metadata": {},
   "outputs": [],
   "source": [
    "# 18 And Above"
   ]
  },
  {
   "cell_type": "markdown",
   "id": "db18c1a6",
   "metadata": {},
   "source": [
    "### Person eligible to vote or not"
   ]
  },
  {
   "cell_type": "code",
   "execution_count": 51,
   "id": "76ce607c",
   "metadata": {},
   "outputs": [
    {
     "name": "stdout",
     "output_type": "stream",
     "text": [
      "Please enter your age 2\n"
     ]
    }
   ],
   "source": [
    "age=input(\"Please enter your age \")\n",
    "age=int(age)"
   ]
  },
  {
   "cell_type": "code",
   "execution_count": 52,
   "id": "bc511fba",
   "metadata": {},
   "outputs": [],
   "source": [
    "#Syntax\n",
    "if(age>=18):\n",
    "    print(\"You are eligible to vote\") #Indentation extra space added by default\n",
    "    "
   ]
  },
  {
   "cell_type": "code",
   "execution_count": 53,
   "id": "12fce7d8",
   "metadata": {},
   "outputs": [
    {
     "name": "stdout",
     "output_type": "stream",
     "text": [
      "You are not eligible to vote\n"
     ]
    }
   ],
   "source": [
    "if(age>=18):\n",
    "    print(\"You are eligible to vote\")\n",
    "else:\n",
    "    print(\"You are not eligible to vote\")"
   ]
  },
  {
   "cell_type": "markdown",
   "id": "19c176a1",
   "metadata": {},
   "source": [
    "- If-elif"
   ]
  },
  {
   "cell_type": "markdown",
   "id": "48d6bc53",
   "metadata": {},
   "source": [
    "### When to study -- Student Life"
   ]
  },
  {
   "cell_type": "code",
   "execution_count": 60,
   "id": "7693a8e1",
   "metadata": {},
   "outputs": [
    {
     "name": "stdout",
     "output_type": "stream",
     "text": [
      "Enter days left for exam 5\n"
     ]
    }
   ],
   "source": [
    "exam_days=input(\"Enter days left for exam \")\n",
    "exam_days=int(exam_days)"
   ]
  },
  {
   "cell_type": "code",
   "execution_count": 61,
   "id": "5523de05",
   "metadata": {},
   "outputs": [
    {
     "name": "stdout",
     "output_type": "stream",
     "text": [
      "Exam ka sochenge!!!\n"
     ]
    }
   ],
   "source": [
    "#Syntax\n",
    "if(exam_days<=2):\n",
    "    print(\"Let's start studying\") \n",
    "elif(exam_days<=10):\n",
    "    print(\"Exam ka sochenge!!!\")\n",
    "elif(exam_days<=30):\n",
    "    print(\"Bohot time hai\")\n",
    "else:\n",
    "    print(\"Dekhlege!!!!\")\n",
    "\n",
    "    "
   ]
  },
  {
   "cell_type": "code",
   "execution_count": 57,
   "id": "a8da54a0",
   "metadata": {},
   "outputs": [
    {
     "name": "stdout",
     "output_type": "stream",
     "text": [
      "Time Table banayege\n"
     ]
    }
   ],
   "source": [
    "#Syntax\n",
    "if(exam_days<=2):\n",
    "    print(\"Let's start studying\") \n",
    "elif(exam_days<=10):\n",
    "    print(\"Exam ka sochenge!!!\")\n",
    "elif(exam_days<=30):\n",
    "    print(\"Time Table banayege\")\n",
    "else:\n",
    "    print(\"Dekhlege!!!!\")\n",
    "\n",
    "    "
   ]
  },
  {
   "cell_type": "code",
   "execution_count": null,
   "id": "d2f97113",
   "metadata": {},
   "outputs": [],
   "source": []
  }
 ],
 "metadata": {
  "kernelspec": {
   "display_name": "Python 3 (ipykernel)",
   "language": "python",
   "name": "python3"
  },
  "language_info": {
   "codemirror_mode": {
    "name": "ipython",
    "version": 3
   },
   "file_extension": ".py",
   "mimetype": "text/x-python",
   "name": "python",
   "nbconvert_exporter": "python",
   "pygments_lexer": "ipython3",
   "version": "3.9.12"
  }
 },
 "nbformat": 4,
 "nbformat_minor": 5
}
