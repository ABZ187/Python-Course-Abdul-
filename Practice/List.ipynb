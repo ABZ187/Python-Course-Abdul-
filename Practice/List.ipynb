{
 "cells": [
  {
   "cell_type": "code",
   "execution_count": 1,
   "id": "1202e811",
   "metadata": {},
   "outputs": [],
   "source": [
    "####Append method element is added at last"
   ]
  },
  {
   "cell_type": "code",
   "execution_count": 15,
   "id": "2c4f1dd3",
   "metadata": {},
   "outputs": [
    {
     "name": "stdout",
     "output_type": "stream",
     "text": [
      "[1, 2, 3, 4, 8]\n"
     ]
    }
   ],
   "source": [
    "a=[1,2,3,4]\n",
    "a.append(8)\n",
    "print(a)"
   ]
  },
  {
   "cell_type": "code",
   "execution_count": 16,
   "id": "8f3bd770",
   "metadata": {},
   "outputs": [],
   "source": [
    "##Insert method list.insert(index,element) elemnt is inserted at specified index"
   ]
  },
  {
   "cell_type": "code",
   "execution_count": 17,
   "id": "38dc8c59",
   "metadata": {},
   "outputs": [
    {
     "name": "stdout",
     "output_type": "stream",
     "text": [
      "[1, 2, 8, 3, 4]\n"
     ]
    }
   ],
   "source": [
    "a=[1,2,3,4]\n",
    "a.insert(2,8)\n",
    "print(a)"
   ]
  },
  {
   "cell_type": "code",
   "execution_count": 1,
   "id": "d33d6fc3",
   "metadata": {},
   "outputs": [
    {
     "name": "stdout",
     "output_type": "stream",
     "text": [
      "[1, 2, 3, 4]\n",
      "[1, 2, 4]\n"
     ]
    }
   ],
   "source": [
    "##Del statement  del list[index]\n",
    "a=[1,2,3,4]\n",
    "print(a)\n",
    "del a[2]\n",
    "print(a)"
   ]
  },
  {
   "cell_type": "code",
   "execution_count": 12,
   "id": "1d3320a3",
   "metadata": {},
   "outputs": [],
   "source": [
    "### remove method removres a item from list  list.remove(item)\n"
   ]
  },
  {
   "cell_type": "code",
   "execution_count": 20,
   "id": "7aacc4fb",
   "metadata": {},
   "outputs": [
    {
     "name": "stdout",
     "output_type": "stream",
     "text": [
      "[2, 3, 4]\n"
     ]
    }
   ],
   "source": [
    "a=[1,2,3,4]\n",
    "a.remove(1)\n",
    "print(a)"
   ]
  },
  {
   "cell_type": "markdown",
   "id": "378d6efb",
   "metadata": {},
   "source": [
    "### List Comprehension\n",
    "#syntax list=[item_list for item in sequence [if]]"
   ]
  },
  {
   "cell_type": "code",
   "execution_count": 6,
   "id": "372e6131",
   "metadata": {},
   "outputs": [
    {
     "name": "stdout",
     "output_type": "stream",
     "text": [
      "[4, 16, 36, 64, 100]\n"
     ]
    }
   ],
   "source": [
    "#take squares of even no.s\n",
    "a=[1,2,3,4,5,6,7,8,9,10]\n",
    "a=[r**2 for r in a if r%2==0 ]\n",
    "print(a)"
   ]
  },
  {
   "cell_type": "markdown",
   "id": "c6506b8f",
   "metadata": {},
   "source": [
    "### Deep Copy and Shallow Copy\n"
   ]
  },
  {
   "cell_type": "code",
   "execution_count": null,
   "id": "50988d99",
   "metadata": {},
   "outputs": [],
   "source": []
  }
 ],
 "metadata": {
  "kernelspec": {
   "display_name": "Python 3.9.6 64-bit",
   "language": "python",
   "name": "python3"
  },
  "language_info": {
   "codemirror_mode": {
    "name": "ipython",
    "version": 3
   },
   "file_extension": ".py",
   "mimetype": "text/x-python",
   "name": "python",
   "nbconvert_exporter": "python",
   "pygments_lexer": "ipython3",
   "version": "3.9.6"
  },
  "vscode": {
   "interpreter": {
    "hash": "0d591c6e422414675974e227c13f5382000c440fedd3c5006ef2be5d887f0ba7"
   }
  }
 },
 "nbformat": 4,
 "nbformat_minor": 5
}
