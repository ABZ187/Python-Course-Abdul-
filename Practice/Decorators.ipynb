{
 "cells": [
  {
   "cell_type": "markdown",
   "id": "6035ad22",
   "metadata": {},
   "source": [
    "### What are decorator?"
   ]
  },
  {
   "cell_type": "code",
   "execution_count": 1,
   "id": "3b5e49df",
   "metadata": {},
   "outputs": [],
   "source": [
    "def xyz():\n",
    "    print('HEllo')"
   ]
  },
  {
   "cell_type": "markdown",
   "id": "11d25910",
   "metadata": {},
   "source": [
    "#### Calling function with another name"
   ]
  },
  {
   "cell_type": "code",
   "execution_count": 2,
   "id": "34ee292f",
   "metadata": {},
   "outputs": [],
   "source": [
    "abc=xyz"
   ]
  },
  {
   "cell_type": "code",
   "execution_count": 3,
   "id": "67967b59",
   "metadata": {},
   "outputs": [
    {
     "name": "stdout",
     "output_type": "stream",
     "text": [
      "HEllo\n"
     ]
    }
   ],
   "source": [
    "abc()"
   ]
  },
  {
   "cell_type": "markdown",
   "id": "8903f44c",
   "metadata": {},
   "source": [
    "#### Nested Functions"
   ]
  },
  {
   "cell_type": "code",
   "execution_count": 4,
   "id": "1d21afdd",
   "metadata": {},
   "outputs": [],
   "source": [
    "def xyz():\n",
    "    print('HEllo')\n",
    "    def abc():\n",
    "        print('Bye')\n",
    "    abc()"
   ]
  },
  {
   "cell_type": "code",
   "execution_count": 12,
   "id": "7555a4d1",
   "metadata": {},
   "outputs": [
    {
     "name": "stdout",
     "output_type": "stream",
     "text": [
      "HEllo\n",
      "Bye\n"
     ]
    }
   ],
   "source": [
    "xyz()"
   ]
  },
  {
   "cell_type": "markdown",
   "id": "ce8b97c0",
   "metadata": {},
   "source": [
    "#### Passing function as an argument"
   ]
  },
  {
   "cell_type": "code",
   "execution_count": 5,
   "id": "a83a2de2",
   "metadata": {},
   "outputs": [],
   "source": [
    "def calculate(f1,x):\n",
    "    return f1(x)"
   ]
  },
  {
   "cell_type": "code",
   "execution_count": 6,
   "id": "84e53c87",
   "metadata": {},
   "outputs": [],
   "source": [
    "def greet(x):\n",
    "    return \"hello \"*x"
   ]
  },
  {
   "cell_type": "code",
   "execution_count": 7,
   "id": "9acc7484",
   "metadata": {},
   "outputs": [
    {
     "data": {
      "text/plain": [
       "'hello hello hello hello hello '"
      ]
     },
     "execution_count": 7,
     "metadata": {},
     "output_type": "execute_result"
    }
   ],
   "source": [
    "calculate(greet,5)"
   ]
  },
  {
   "cell_type": "markdown",
   "id": "54446f6f",
   "metadata": {},
   "source": [
    "### Decorator is a function that takes another function as an argument, adds some additional functionality therby enhancing it and then return an enhanced function. All of this happens without altering source code of the original function"
   ]
  },
  {
   "cell_type": "code",
   "execution_count": 29,
   "id": "f18c577e",
   "metadata": {},
   "outputs": [],
   "source": [
    "def get_result(func1,x,y):\n",
    "    def get_marks():\n",
    "        print(\"Getting marks\")\n",
    "        marks=func1(x,y)\n",
    "        print(\"The marks are \",marks)\n",
    "        print(\"marks saved\")\n",
    "    return get_marks()"
   ]
  },
  {
   "cell_type": "code",
   "execution_count": 30,
   "id": "e82076e0",
   "metadata": {},
   "outputs": [],
   "source": [
    "def calculate(x,y):\n",
    "    return x+y"
   ]
  },
  {
   "cell_type": "code",
   "execution_count": 31,
   "id": "009b5dd1",
   "metadata": {},
   "outputs": [
    {
     "name": "stdout",
     "output_type": "stream",
     "text": [
      "Getting marks\n",
      "The marks are  9\n",
      "marks saved\n"
     ]
    }
   ],
   "source": [
    "get_result(calculate,5,4)"
   ]
  },
  {
   "cell_type": "code",
   "execution_count": null,
   "id": "94af7cff",
   "metadata": {},
   "outputs": [],
   "source": []
  }
 ],
 "metadata": {
  "kernelspec": {
   "display_name": "Python 3.9.6 64-bit",
   "language": "python",
   "name": "python3"
  },
  "language_info": {
   "codemirror_mode": {
    "name": "ipython",
    "version": 3
   },
   "file_extension": ".py",
   "mimetype": "text/x-python",
   "name": "python",
   "nbconvert_exporter": "python",
   "pygments_lexer": "ipython3",
   "version": "3.9.6"
  },
  "vscode": {
   "interpreter": {
    "hash": "0d591c6e422414675974e227c13f5382000c440fedd3c5006ef2be5d887f0ba7"
   }
  }
 },
 "nbformat": 4,
 "nbformat_minor": 5
}
