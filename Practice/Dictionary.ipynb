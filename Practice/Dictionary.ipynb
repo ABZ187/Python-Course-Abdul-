{
 "cells": [
  {
   "cell_type": "markdown",
   "id": "226934f8",
   "metadata": {},
   "source": [
    "## Dictionary {key:value}\n",
    "### The values of a dictionary are stored in \"key:value\" pair \n",
    "### The values of dictionary can be any data type. The values of keys are immutable datatype such as strings, tuple or numbers\n",
    "### unordered\n",
    "### keys are unique"
   ]
  },
  {
   "cell_type": "code",
   "execution_count": 1,
   "id": "ef0871dc",
   "metadata": {},
   "outputs": [],
   "source": [
    "a={1:\"apple\",2:\"banana\",3:[\"papaya\",\"mango\"]}"
   ]
  },
  {
   "cell_type": "code",
   "execution_count": 5,
   "id": "a0f3cd2c",
   "metadata": {},
   "outputs": [
    {
     "data": {
      "text/plain": [
       "['papaya', 'mango']"
      ]
     },
     "execution_count": 5,
     "metadata": {},
     "output_type": "execute_result"
    }
   ],
   "source": [
    "a[3] #using key"
   ]
  },
  {
   "cell_type": "code",
   "execution_count": 6,
   "id": "17b3fd0e",
   "metadata": {},
   "outputs": [
    {
     "data": {
      "text/plain": [
       "['papaya', 'mango']"
      ]
     },
     "execution_count": 6,
     "metadata": {},
     "output_type": "execute_result"
    }
   ],
   "source": [
    "a.get(3) #using key"
   ]
  },
  {
   "cell_type": "markdown",
   "id": "880e5a8e",
   "metadata": {},
   "source": [
    "### To access keys dict.keys()"
   ]
  },
  {
   "cell_type": "code",
   "execution_count": 8,
   "id": "ce05bf6f",
   "metadata": {},
   "outputs": [
    {
     "data": {
      "text/plain": [
       "dict_keys([1, 2, 3])"
      ]
     },
     "execution_count": 8,
     "metadata": {},
     "output_type": "execute_result"
    }
   ],
   "source": [
    "a.keys()"
   ]
  },
  {
   "cell_type": "markdown",
   "id": "1030089a",
   "metadata": {},
   "source": [
    "### To access keys dict.values()"
   ]
  },
  {
   "cell_type": "code",
   "execution_count": 10,
   "id": "c8a624aa",
   "metadata": {},
   "outputs": [
    {
     "data": {
      "text/plain": [
       "dict_values(['apple', 'banana', ['papaya', 'mango']])"
      ]
     },
     "execution_count": 10,
     "metadata": {},
     "output_type": "execute_result"
    }
   ],
   "source": [
    "a.values()"
   ]
  },
  {
   "cell_type": "markdown",
   "id": "b87baecd",
   "metadata": {},
   "source": [
    "### To access keys as well as values"
   ]
  },
  {
   "cell_type": "code",
   "execution_count": 12,
   "id": "5aad8e46",
   "metadata": {},
   "outputs": [
    {
     "name": "stdout",
     "output_type": "stream",
     "text": [
      "keys 1\n",
      "values apple\n",
      "keys 2\n",
      "values banana\n",
      "keys 3\n",
      "values ['papaya', 'mango']\n"
     ]
    }
   ],
   "source": [
    "for keys,values in a.items():\n",
    "    print(\"keys\",keys)\n",
    "    print(\"values\",values)"
   ]
  },
  {
   "cell_type": "code",
   "execution_count": 13,
   "id": "f326b7cd",
   "metadata": {},
   "outputs": [
    {
     "ename": "NameError",
     "evalue": "name 'student1' is not defined",
     "output_type": "error",
     "traceback": [
      "\u001b[1;31m---------------------------------------------------------------------------\u001b[0m",
      "\u001b[1;31mNameError\u001b[0m                                 Traceback (most recent call last)",
      "Input \u001b[1;32mIn [13]\u001b[0m, in \u001b[0;36m<cell line: 1>\u001b[1;34m()\u001b[0m\n\u001b[1;32m----> 1\u001b[0m student\u001b[38;5;241m=\u001b[39m{{\u001b[43mstudent1\u001b[49m:\u001b[38;5;124m\"\u001b[39m\u001b[38;5;124ma\u001b[39m\u001b[38;5;124m\"\u001b[39m,year:\u001b[38;5;241m1\u001b[39m}:l,{student1:\u001b[38;5;124m\"\u001b[39m\u001b[38;5;124ma\u001b[39m\u001b[38;5;124m\"\u001b[39m,year:\u001b[38;5;241m1\u001b[39m}:m,{student1:\u001b[38;5;124m\"\u001b[39m\u001b[38;5;124ma\u001b[39m\u001b[38;5;124m\"\u001b[39m,year:\u001b[38;5;241m1\u001b[39m}:N}\n",
      "\u001b[1;31mNameError\u001b[0m: name 'student1' is not defined"
     ]
    }
   ],
   "source": [
    "student={{student1\":\"a\",year:1}:l,{student1:\"a\",year:1}:m,{student1:\"a\",year:1}:N}\n"
   ]
  },
  {
   "cell_type": "code",
   "execution_count": null,
   "id": "f1fd9ea9",
   "metadata": {},
   "outputs": [],
   "source": []
  }
 ],
 "metadata": {
  "kernelspec": {
   "display_name": "Python 3 (ipykernel)",
   "language": "python",
   "name": "python3"
  },
  "language_info": {
   "codemirror_mode": {
    "name": "ipython",
    "version": 3
   },
   "file_extension": ".py",
   "mimetype": "text/x-python",
   "name": "python",
   "nbconvert_exporter": "python",
   "pygments_lexer": "ipython3",
   "version": "3.9.12"
  }
 },
 "nbformat": 4,
 "nbformat_minor": 5
}
