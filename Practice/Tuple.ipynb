{
 "cells": [
  {
   "cell_type": "markdown",
   "id": "b7eb2113",
   "metadata": {},
   "source": [
    "### *args  If no. of parameters are not fixed then write * before positional argument in function declaration"
   ]
  },
  {
   "cell_type": "code",
   "execution_count": 2,
   "id": "3a0ace5c",
   "metadata": {},
   "outputs": [],
   "source": [
    "def add(*c):\n",
    "    print(\"hello\")"
   ]
  },
  {
   "cell_type": "code",
   "execution_count": 3,
   "id": "abe22bdd",
   "metadata": {},
   "outputs": [
    {
     "name": "stdout",
     "output_type": "stream",
     "text": [
      "hello\n"
     ]
    }
   ],
   "source": [
    "add(6,7,8)"
   ]
  },
  {
   "cell_type": "code",
   "execution_count": 4,
   "id": "4c73d1c2",
   "metadata": {},
   "outputs": [],
   "source": [
    "def add(*x):\n",
    "    sum=0\n",
    "    for i in x:\n",
    "        sum=sum+i\n",
    "    return sum\n"
   ]
  },
  {
   "cell_type": "code",
   "execution_count": 5,
   "id": "e8d6b1de",
   "metadata": {},
   "outputs": [
    {
     "data": {
      "text/plain": [
       "9"
      ]
     },
     "execution_count": 5,
     "metadata": {},
     "output_type": "execute_result"
    }
   ],
   "source": [
    "add(2,3,4)"
   ]
  },
  {
   "cell_type": "code",
   "execution_count": 19,
   "id": "ebfd4d1b",
   "metadata": {},
   "outputs": [],
   "source": [
    "a=(\"a\",1,2.5,[\"a\",\"thruday\",\"friday\",9],2, 5)"
   ]
  },
  {
   "cell_type": "code",
   "execution_count": 20,
   "id": "06b0465c",
   "metadata": {},
   "outputs": [
    {
     "name": "stdout",
     "output_type": "stream",
     "text": [
      "('a', 1, 2.5, ['a', 'thruday', 'friday', 9], 2, 5)\n"
     ]
    }
   ],
   "source": [
    "print(a)"
   ]
  },
  {
   "cell_type": "code",
   "execution_count": 21,
   "id": "560e2a75",
   "metadata": {},
   "outputs": [
    {
     "data": {
      "text/plain": [
       "(2, 5, 'a')"
      ]
     },
     "execution_count": 21,
     "metadata": {},
     "output_type": "execute_result"
    }
   ],
   "source": [
    "2,5,\"a\" ##sequence is assumed to be tupple by default "
   ]
  },
  {
   "cell_type": "code",
   "execution_count": 22,
   "id": "1c71b871",
   "metadata": {},
   "outputs": [
    {
     "data": {
      "text/plain": [
       "2.5"
      ]
     },
     "execution_count": 22,
     "metadata": {},
     "output_type": "execute_result"
    }
   ],
   "source": [
    "a[2] ##elements in tuple"
   ]
  },
  {
   "cell_type": "code",
   "execution_count": 23,
   "id": "d23f0716",
   "metadata": {},
   "outputs": [
    {
     "data": {
      "text/plain": [
       "(1, ['a', 'thruday', 'friday', 9])"
      ]
     },
     "execution_count": 23,
     "metadata": {},
     "output_type": "execute_result"
    }
   ],
   "source": [
    "a[1:5:2]"
   ]
  },
  {
   "cell_type": "code",
   "execution_count": 25,
   "id": "1b89aeff",
   "metadata": {},
   "outputs": [
    {
     "data": {
      "text/plain": [
       "['a', 'thruday', 'friday']"
      ]
     },
     "execution_count": 25,
     "metadata": {},
     "output_type": "execute_result"
    }
   ],
   "source": [
    "a[3][0:3] #nested accesing of element"
   ]
  },
  {
   "cell_type": "markdown",
   "id": "ed9f51af",
   "metadata": {},
   "source": [
    "### Tuple is immutable\n",
    "No insertion or deletion possile"
   ]
  },
  {
   "cell_type": "code",
   "execution_count": 26,
   "id": "42902891",
   "metadata": {},
   "outputs": [
    {
     "ename": "TypeError",
     "evalue": "'tuple' object does not support item assignment",
     "output_type": "error",
     "traceback": [
      "\u001b[1;31m---------------------------------------------------------------------------\u001b[0m",
      "\u001b[1;31mTypeError\u001b[0m                                 Traceback (most recent call last)",
      "Input \u001b[1;32mIn [26]\u001b[0m, in \u001b[0;36m<cell line: 1>\u001b[1;34m()\u001b[0m\n\u001b[1;32m----> 1\u001b[0m a[\u001b[38;5;241m0\u001b[39m]\u001b[38;5;241m=\u001b[39m\u001b[38;5;124m\"\u001b[39m\u001b[38;5;124mb\u001b[39m\u001b[38;5;124m\"\u001b[39m\n",
      "\u001b[1;31mTypeError\u001b[0m: 'tuple' object does not support item assignment"
     ]
    }
   ],
   "source": [
    "a[0]=\"b\""
   ]
  },
  {
   "cell_type": "markdown",
   "id": "672a80a4",
   "metadata": {},
   "source": [
    "## Zip Function\n",
    "zip() is a built in function that takes two or more sequence and zips them into a list or tuple. the tuple formed has one element from each sequence"
   ]
  },
  {
   "cell_type": "code",
   "execution_count": 35,
   "id": "31782b0a",
   "metadata": {},
   "outputs": [
    {
     "name": "stdout",
     "output_type": "stream",
     "text": [
      "((1, 'a'), (2, 'b'), (3, 'c'), (4, 'd'))\n",
      "[(1, 'a'), (2, 'b'), (3, 'c'), (4, 'd')]\n"
     ]
    }
   ],
   "source": [
    "a=(1,2,3,4,5)\n",
    "b=[\"a\",\"b\",\"c\",\"d\"]\n",
    "c=tuple(zip(a,b))\n",
    "d=list(zip(a,b))\n",
    "print(c)\n",
    "print(d)"
   ]
  },
  {
   "cell_type": "markdown",
   "id": "2a2b3475",
   "metadata": {},
   "source": [
    "### Tuple Packing and Unpacking --specific to Tuple"
   ]
  },
  {
   "cell_type": "code",
   "execution_count": 37,
   "id": "303eb622",
   "metadata": {},
   "outputs": [],
   "source": [
    "def simple(n1,n2):\n",
    "    return n1,n2"
   ]
  },
  {
   "cell_type": "code",
   "execution_count": 39,
   "id": "825e251a",
   "metadata": {},
   "outputs": [
    {
     "data": {
      "text/plain": [
       "(1, 2)"
      ]
     },
     "execution_count": 39,
     "metadata": {},
     "output_type": "execute_result"
    }
   ],
   "source": [
    "simple(1,2) #tuple output"
   ]
  },
  {
   "cell_type": "code",
   "execution_count": 41,
   "id": "57c46f4c",
   "metadata": {},
   "outputs": [
    {
     "name": "stdout",
     "output_type": "stream",
     "text": [
      "<class 'int'>\n",
      "<class 'tuple'>\n"
     ]
    }
   ],
   "source": [
    "a=(2) #not tuple\n",
    "print(type(a))\n",
    "a=(2,) #tuple\n",
    "print(type(a))"
   ]
  },
  {
   "cell_type": "markdown",
   "id": "0db80f43",
   "metadata": {},
   "source": [
    "### Unpacking"
   ]
  },
  {
   "cell_type": "code",
   "execution_count": 46,
   "id": "a5b2e011",
   "metadata": {},
   "outputs": [
    {
     "name": "stdout",
     "output_type": "stream",
     "text": [
      "[1, 3]\n"
     ]
    }
   ],
   "source": [
    "(*a,)=simple(1,3)\n",
    "\n",
    "print(a)"
   ]
  },
  {
   "cell_type": "code",
   "execution_count": 47,
   "id": "0f258fbe",
   "metadata": {},
   "outputs": [
    {
     "name": "stdout",
     "output_type": "stream",
     "text": [
      "[1, 3]\n"
     ]
    }
   ],
   "source": [
    "[*a]=simple(1,3)\n",
    "print(a)"
   ]
  },
  {
   "cell_type": "code",
   "execution_count": null,
   "id": "bdcca654",
   "metadata": {},
   "outputs": [],
   "source": []
  }
 ],
 "metadata": {
  "kernelspec": {
   "display_name": "Python 3 (ipykernel)",
   "language": "python",
   "name": "python3"
  },
  "language_info": {
   "codemirror_mode": {
    "name": "ipython",
    "version": 3
   },
   "file_extension": ".py",
   "mimetype": "text/x-python",
   "name": "python",
   "nbconvert_exporter": "python",
   "pygments_lexer": "ipython3",
   "version": "3.9.12"
  }
 },
 "nbformat": 4,
 "nbformat_minor": 5
}
