{
 "cells": [
  {
   "cell_type": "code",
   "execution_count": 1,
   "id": "547cfc26",
   "metadata": {},
   "outputs": [
    {
     "ename": "ModuleNotFoundError",
     "evalue": "No module named 'pymongo'",
     "output_type": "error",
     "traceback": [
      "\u001b[1;31m---------------------------------------------------------------------------\u001b[0m",
      "\u001b[1;31mModuleNotFoundError\u001b[0m                       Traceback (most recent call last)",
      "Cell \u001b[1;32mIn [1], line 1\u001b[0m\n\u001b[1;32m----> 1\u001b[0m \u001b[38;5;28;01mimport\u001b[39;00m \u001b[38;5;21;01mpymongo\u001b[39;00m\n\u001b[0;32m      2\u001b[0m \u001b[38;5;28;01mfrom\u001b[39;00m \u001b[38;5;21;01mpymongo\u001b[39;00m \u001b[38;5;28;01mimport\u001b[39;00m MongoClient\n",
      "\u001b[1;31mModuleNotFoundError\u001b[0m: No module named 'pymongo'"
     ]
    }
   ],
   "source": [
    "import pymongo\n",
    "from pymongo import MongoClient"
   ]
  },
  {
   "cell_type": "code",
   "execution_count": 2,
   "id": "52a947fb",
   "metadata": {},
   "outputs": [],
   "source": [
    "cluster = MongoClient()"
   ]
  },
  {
   "cell_type": "code",
   "execution_count": 3,
   "id": "1d29a55d",
   "metadata": {},
   "outputs": [],
   "source": [
    "db=cluster['test']"
   ]
  },
  {
   "cell_type": "code",
   "execution_count": 4,
   "id": "a2ca31d8",
   "metadata": {},
   "outputs": [],
   "source": [
    "collection=db['test']"
   ]
  },
  {
   "cell_type": "code",
   "execution_count": 21,
   "id": "36b41e1f",
   "metadata": {},
   "outputs": [
    {
     "data": {
      "text/plain": [
       "<pymongo.results.InsertOneResult at 0x1ecf5252fd0>"
      ]
     },
     "execution_count": 21,
     "metadata": {},
     "output_type": "execute_result"
    }
   ],
   "source": [
    "doc={\"_id\":1, \"name\":\"abz\", \"score\":1}\n",
    "collection.insert_one(doc)"
   ]
  },
  {
   "cell_type": "code",
   "execution_count": 22,
   "id": "efa9296f",
   "metadata": {},
   "outputs": [
    {
     "name": "stdout",
     "output_type": "stream",
     "text": [
      "{'_id': 1, 'name': 'abz', 'score': 1}\n"
     ]
    }
   ],
   "source": [
    "results=collection.find({})\n",
    "for result in results:\n",
    "    print(result)"
   ]
  },
  {
   "cell_type": "code",
   "execution_count": 23,
   "id": "a578e8a7",
   "metadata": {},
   "outputs": [
    {
     "data": {
      "text/plain": [
       "<pymongo.results.InsertManyResult at 0x1ecf526a970>"
      ]
     },
     "execution_count": 23,
     "metadata": {},
     "output_type": "execute_result"
    }
   ],
   "source": [
    "doc1={\"_id\":2, \"name\":\"alf\", \"score\":7}\n",
    "doc2={\"_id\":3, \"name\":\"batman\", \"score\":8}\n",
    "doc3={\"_id\":5, \"name\":\"alf\", \"score\":9}\n",
    "doc4={\"_id\":7, \"name\":\"gorila\", \"score\":1}\n",
    "collection.insert_many([doc1,doc2,doc3,doc4])"
   ]
  },
  {
   "cell_type": "code",
   "execution_count": 7,
   "id": "fc96cd9a",
   "metadata": {},
   "outputs": [],
   "source": [
    "find_one=collection.find_one({\"name\":\"alf\"})\n",
    "find=collection.find({})\n",
    "find2=collection.find({\"name\":\"alf\"})"
   ]
  },
  {
   "cell_type": "code",
   "execution_count": 8,
   "id": "6237d90b",
   "metadata": {},
   "outputs": [
    {
     "name": "stdout",
     "output_type": "stream",
     "text": [
      "find_one {'_id': 2, 'name': 'alf', 'score': 7}\n"
     ]
    }
   ],
   "source": [
    "print(\"find_one\",find_one)"
   ]
  },
  {
   "cell_type": "code",
   "execution_count": 9,
   "id": "707cc26f",
   "metadata": {},
   "outputs": [
    {
     "name": "stdout",
     "output_type": "stream",
     "text": [
      "find\n",
      "{'_id': ObjectId('62fddebbbf883c4c786f5944'), 'id': 1, 'name': 'abz', 'score': 1}\n",
      "find\n",
      "{'_id': 1, 'name': 'abz', 'score': 1}\n",
      "find\n",
      "{'_id': 2, 'name': 'alf', 'score': 7}\n",
      "find\n",
      "{'_id': 3, 'name': 'batman', 'score': 8}\n",
      "find\n",
      "{'_id': 5, 'name': 'alf', 'score': 9}\n",
      "find\n",
      "{'_id': 7, 'name': 'gorila', 'score': 1}\n"
     ]
    }
   ],
   "source": [
    "for f in find:\n",
    "    print(\"find\")\n",
    "    print(f)"
   ]
  },
  {
   "cell_type": "code",
   "execution_count": 10,
   "id": "5f8eee9b",
   "metadata": {},
   "outputs": [
    {
     "name": "stdout",
     "output_type": "stream",
     "text": [
      "find2\n",
      "{'_id': 2, 'name': 'alf', 'score': 7}\n",
      "find2\n",
      "{'_id': 5, 'name': 'alf', 'score': 9}\n"
     ]
    }
   ],
   "source": [
    "for f in find2:\n",
    "    print(\"find2\")\n",
    "    print(f)"
   ]
  },
  {
   "cell_type": "code",
   "execution_count": 17,
   "id": "2bebfcab",
   "metadata": {},
   "outputs": [
    {
     "data": {
      "text/plain": [
       "<pymongo.results.DeleteResult at 0x1ecf3da3e50>"
      ]
     },
     "execution_count": 17,
     "metadata": {},
     "output_type": "execute_result"
    }
   ],
   "source": [
    "collection.delete_one({'name': 'alf'})"
   ]
  },
  {
   "cell_type": "code",
   "execution_count": 42,
   "id": "6338866c",
   "metadata": {},
   "outputs": [
    {
     "name": "stdout",
     "output_type": "stream",
     "text": [
      "{'_id': 1, 'name': 'abz', 'score': 3}\n",
      "{'_id': 2, 'name': 'blf', 'score': 1}\n",
      "{'_id': 3, 'name': 'batman', 'score': 10}\n",
      "{'_id': 5, 'name': 'alf', 'score': 11}\n",
      "{'_id': 7, 'name': 'gorila', 'score': 3}\n"
     ]
    }
   ],
   "source": [
    "results=collection.find({})\n",
    "for result in  results:\n",
    "    print(result)"
   ]
  },
  {
   "cell_type": "code",
   "execution_count": 19,
   "id": "8d33d3d7",
   "metadata": {},
   "outputs": [
    {
     "data": {
      "text/plain": [
       "<pymongo.results.DeleteResult at 0x1ecf1e2dac0>"
      ]
     },
     "execution_count": 19,
     "metadata": {},
     "output_type": "execute_result"
    }
   ],
   "source": [
    "collection.delete_many({})"
   ]
  },
  {
   "cell_type": "code",
   "execution_count": 32,
   "id": "6bb5ae93",
   "metadata": {},
   "outputs": [
    {
     "data": {
      "text/plain": [
       "<pymongo.results.UpdateResult at 0x1ecf526a8e0>"
      ]
     },
     "execution_count": 32,
     "metadata": {},
     "output_type": "execute_result"
    }
   ],
   "source": [
    "collection.update_one({'name': 'alf'},{\"$set\":{\"name\":\"blf\",\"score\":0}})"
   ]
  },
  {
   "cell_type": "code",
   "execution_count": 33,
   "id": "3ef90fbd",
   "metadata": {},
   "outputs": [
    {
     "data": {
      "text/plain": [
       "<pymongo.results.UpdateResult at 0x1ecf1e2d430>"
      ]
     },
     "execution_count": 33,
     "metadata": {},
     "output_type": "execute_result"
    }
   ],
   "source": [
    "collection.update_many({},{'$inc':{\"score\":1}})"
   ]
  },
  {
   "cell_type": "code",
   "execution_count": 35,
   "id": "8c7438fc",
   "metadata": {},
   "outputs": [
    {
     "name": "stdout",
     "output_type": "stream",
     "text": [
      "5\n"
     ]
    }
   ],
   "source": [
    "count=collection.count_documents({})\n",
    "print(count)"
   ]
  },
  {
   "cell_type": "code",
   "execution_count": 45,
   "id": "ac3d3d7e",
   "metadata": {},
   "outputs": [
    {
     "data": {
      "text/plain": [
       "<pymongo.results.InsertOneResult at 0x1ecf3a7aee0>"
      ]
     },
     "execution_count": 45,
     "metadata": {},
     "output_type": "execute_result"
    }
   ],
   "source": [
    "collection.insert_one({\"name\":\"dummy\",\"score\":-1})"
   ]
  },
  {
   "cell_type": "code",
   "execution_count": 43,
   "id": "71d37cda",
   "metadata": {},
   "outputs": [
    {
     "data": {
      "text/plain": [
       "<pymongo.results.DeleteResult at 0x1ecf3c98370>"
      ]
     },
     "execution_count": 43,
     "metadata": {},
     "output_type": "execute_result"
    }
   ],
   "source": [
    "collection.delete_one({'_id':'62fde94aec45927277d5f020'})"
   ]
  },
  {
   "cell_type": "code",
   "execution_count": null,
   "id": "3021d9b3",
   "metadata": {},
   "outputs": [],
   "source": []
  }
 ],
 "metadata": {
  "kernelspec": {
   "display_name": "Python 3.9.6 64-bit",
   "language": "python",
   "name": "python3"
  },
  "language_info": {
   "codemirror_mode": {
    "name": "ipython",
    "version": 3
   },
   "file_extension": ".py",
   "mimetype": "text/x-python",
   "name": "python",
   "nbconvert_exporter": "python",
   "pygments_lexer": "ipython3",
   "version": "3.9.6"
  },
  "vscode": {
   "interpreter": {
    "hash": "0d591c6e422414675974e227c13f5382000c440fedd3c5006ef2be5d887f0ba7"
   }
  }
 },
 "nbformat": 4,
 "nbformat_minor": 5
}
