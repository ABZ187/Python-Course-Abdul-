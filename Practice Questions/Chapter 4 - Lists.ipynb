{
 "cells": [
  {
   "cell_type": "markdown",
   "metadata": {
    "id": "qw0NPWR6Rv5v"
   },
   "source": [
    "# <center>Lists Practice Questions</center>"
   ]
  },
  {
   "cell_type": "markdown",
   "metadata": {},
   "source": [
    "### <center>Difficulty Level : Easy</center>"
   ]
  },
  {
   "cell_type": "markdown",
   "metadata": {},
   "source": [
    "- Create a function that will reverse a given list.\n",
    "\n",
    "    **Example :**\n",
    "\n",
    "```python\n",
    "def reverse_list(numbers):\n",
    "    ### your code here\n",
    "    \n",
    "list1 = [8, 6, 4, 2, 0]\n",
    "reverse_list(list1)\n",
    "\n",
    ">>> [0, 2, 4, 6, 8]\n",
    "```"
   ]
  },
  {
   "cell_type": "code",
   "execution_count": 7,
   "metadata": {},
   "outputs": [
    {
     "name": "stdout",
     "output_type": "stream",
     "text": [
      "[8, 6, 4, 2, 0]\n"
     ]
    }
   ],
   "source": [
    "def reverse_list(list1):\n",
    "    list=[]\n",
    "    l=len(list1)-1\n",
    "    for r in range(l,-1,-1):\n",
    "        list.append(list1[r])\n",
    "    #list1.reverse\n",
    "    #list[::-1]\n",
    "    print(list)\n",
    "list1 = [0, 2, 4, 6, 8]\n",
    "reverse_list(list1)\n",
    "    "
   ]
  },
  {
   "cell_type": "code",
   "execution_count": null,
   "metadata": {},
   "outputs": [],
   "source": []
  },
  {
   "cell_type": "markdown",
   "metadata": {},
   "source": [
    "- Create a function that will display the square of every element of the list provided as an argument.\n",
    "\n",
    "    **Example :**\n",
    " \n",
    "```python\n",
    "def square_list(list_numbers):\n",
    "    ### your code here\n",
    "\n",
    "list2 = [1, 2, 3, 4, 5]\n",
    "square_list(list2)\n",
    ">>> 1\n",
    "    4\n",
    "    9\n",
    "    16\n",
    "    25\n",
    "```"
   ]
  },
  {
   "cell_type": "code",
   "execution_count": 8,
   "metadata": {},
   "outputs": [],
   "source": [
    "def square_list(list_numbers):\n",
    "    for r in list_numbers:\n",
    "        print(r**2)\n",
    "    "
   ]
  },
  {
   "cell_type": "code",
   "execution_count": 9,
   "metadata": {},
   "outputs": [
    {
     "name": "stdout",
     "output_type": "stream",
     "text": [
      "1\n",
      "4\n",
      "9\n",
      "16\n",
      "25\n"
     ]
    }
   ],
   "source": [
    "list2 = [1, 2, 3, 4, 5]\n",
    "square_list(list2)"
   ]
  },
  {
   "cell_type": "code",
   "execution_count": 2,
   "metadata": {},
   "outputs": [
    {
     "name": "stdout",
     "output_type": "stream",
     "text": [
      "[1, 4, 9, 16, 25, 36, 49, 64, 81, 100]\n"
     ]
    }
   ],
   "source": [
    "a=[1,2,3,4,5,6,7,8,9,10]\n",
    "a=[r**2 for r in a ]\n",
    "print(a)"
   ]
  },
  {
   "cell_type": "markdown",
   "metadata": {},
   "source": [
    "- Create a function that will take list of `fruits` and a `new_fruit` as 2 arguments. Add the `new_fruit` into the list of `fruits` and display the updated list. Also, try adding the `new_fruit` at the index position 2.\n",
    "\n",
    "    **Example :**\n",
    "\n",
    "```python\n",
    "def to_append(fruits, new_fruit):\n",
    "    ### your code here\n",
    "\n",
    "fruits = ['banana', 'orange', 'mango', 'lemon']\n",
    "new_fruit = 'blueberry'\n",
    "\n",
    "to_append(fruits, new_fruit)\n",
    "\n",
    ">>> ['banana', 'orange', 'mango', 'lemon', 'blueberry']\n",
    "\n",
    "to_append(fruits, new_fruit)\n",
    "\n",
    ">>> ['banana', 'orange','blueberry' ,'mango', 'lemon',]\n",
    "```"
   ]
  },
  {
   "cell_type": "code",
   "execution_count": 6,
   "metadata": {},
   "outputs": [],
   "source": [
    "def to_append(fruits, new_fruit):\n",
    "    fruits.append(new_fruit)\n",
    "    print(fruits)\n",
    "    fruits.remove(new_fruit)\n",
    "    fruits.insert(2,new_fruit)\n",
    "    print(fruits)\n",
    "\n",
    "\n"
   ]
  },
  {
   "cell_type": "code",
   "execution_count": 7,
   "metadata": {},
   "outputs": [
    {
     "name": "stdout",
     "output_type": "stream",
     "text": [
      "['banana', 'orange', 'mango', 'lemon', 'blueberry']\n",
      "['banana', 'orange', 'blueberry', 'mango', 'lemon']\n"
     ]
    }
   ],
   "source": [
    "fruits = ['banana', 'orange', 'mango', 'lemon']\n",
    "new_fruit = 'blueberry'\n",
    "to_append(fruits, new_fruit)"
   ]
  },
  {
   "cell_type": "markdown",
   "metadata": {},
   "source": [
    "- Create a function that will take a list as an argument and return an updated list after removing empty strings from the list. `list3 = [\"Vivek\", \"\", \"Ankur\", \"aiadventures\", \"\", \"Pranav\"]`.\n",
    "\n",
    "    **Example :**\n",
    " \n",
    "```python\n",
    "def remove_spaces(list_names):\n",
    "    ### your code here\n",
    "\n",
    "list3 = [\"Vivek\", \"\", \"Ankur\", \"aiadventures\", \"\", \"Pranav\"]\n",
    "remove_spaces(list3)\n",
    "\n",
    ">>> ['Vivek', 'Ankur', 'aiadventures', 'Pranav']\n",
    "```"
   ]
  },
  {
   "cell_type": "code",
   "execution_count": 17,
   "metadata": {},
   "outputs": [],
   "source": [
    "def remove_spaces(list_names):\n",
    "    while \"\" in list_names:\n",
    "        list_names.remove(\"\")\n",
    "    print(list_names)"
   ]
  },
  {
   "cell_type": "code",
   "execution_count": 18,
   "metadata": {},
   "outputs": [
    {
     "name": "stdout",
     "output_type": "stream",
     "text": [
      "['Vivek', 'Ankur', 'aiadventures', 'Pranav']\n"
     ]
    }
   ],
   "source": [
    "list3 = [\"Vivek\", \"\", \"Ankur\", \"aiadventures\", \"\", \"Pranav\"]\n",
    "remove_spaces(list3)"
   ]
  },
  {
   "cell_type": "markdown",
   "metadata": {},
   "source": [
    "### <center>Difficulty Level : Medium</center>"
   ]
  },
  {
   "cell_type": "markdown",
   "metadata": {},
   "source": [
    "- Create a function that takes 2 lists as arguments and it iterates over both lists simultaneously such that output should display items in original order from 1st list and elements from 2nd list in reverse order. \n",
    "\n",
    "    **Note :** Please give attention to the output as it doesn't include `[]` brackets.\n",
    "\n",
    "    **Example :**\n",
    " \n",
    "```python\n",
    "def reverse_list(first, second):\n",
    "    ### your code here\n",
    "\n",
    "list4 = [10, 20, 30, 40]\n",
    "list5 = [100, 200, 300, 400]\n",
    "\n",
    "reverse_list(list4, list5)\n",
    ">>> 10 20 30 40 400 300 200 100 \n",
    "```"
   ]
  },
  {
   "cell_type": "code",
   "execution_count": 9,
   "metadata": {},
   "outputs": [],
   "source": [
    "def reverse_list(first, second):\n",
    "    for i in first:\n",
    "        print(i,end=\" \")\n",
    "    l=len(second)-1\n",
    "    for i in range(l,-1,-1):\n",
    "        print(second[i],end=' ')"
   ]
  },
  {
   "cell_type": "code",
   "execution_count": 10,
   "metadata": {},
   "outputs": [
    {
     "name": "stdout",
     "output_type": "stream",
     "text": [
      "10 20 30 40 400 300 200 100 "
     ]
    }
   ],
   "source": [
    "list4 = [10, 20, 30, 40]\n",
    "list5 = [100, 200, 300, 400]\n",
    "reverse_list(list4,list5)"
   ]
  },
  {
   "cell_type": "markdown",
   "metadata": {},
   "source": [
    "# <center>Keep Learning Data@AI!</center>"
   ]
  }
 ],
 "metadata": {
  "colab": {
   "name": "scratchpad",
   "provenance": []
  },
  "kernelspec": {
   "display_name": "Python 3 (ipykernel)",
   "language": "python",
   "name": "python3"
  },
  "language_info": {
   "codemirror_mode": {
    "name": "ipython",
    "version": 3
   },
   "file_extension": ".py",
   "mimetype": "text/x-python",
   "name": "python",
   "nbconvert_exporter": "python",
   "pygments_lexer": "ipython3",
   "version": "3.9.12"
  }
 },
 "nbformat": 4,
 "nbformat_minor": 1
}
